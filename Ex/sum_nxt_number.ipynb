{
 "cells": [
  {
   "cell_type": "code",
   "execution_count": 5,
   "metadata": {},
   "outputs": [
    {
     "name": "stdout",
     "output_type": "stream",
     "text": [
      "4\n",
      "454 55 521 14\n",
      "11 329 104 989\n",
      "23447 174 87 845\n",
      "25 81 53 111\n",
      "11\n",
      "40\n"
     ]
    }
   ],
   "source": [
    "matrix = []\n",
    "for _ in range(int(input())):\n",
    "    matrix.append(list(map(int,input().split())))\n",
    "x = int(input())\n",
    "\n",
    "def get_sum(num):\n",
    "    num = str(num)\n",
    "    l = len(num)\n",
    "    tot = 0\n",
    "    for i in num:\n",
    "        tot += int(i)**l\n",
    "        l-=1\n",
    "    return tot\n",
    "\n",
    "for row in matrix:\n",
    "    if x in row:\n",
    "        col_i = row.index(x)\n",
    "        row_i = matrix.index(row)\n",
    "        s = row_i+col_i\n",
    "        num = row[col_i+s-len(row)]\n",
    "        print(get_sum(num))\n",
    "        break"
   ]
  },
  {
   "cell_type": "code",
   "execution_count": 1,
   "metadata": {},
   "outputs": [],
   "source": [
    "a = [1,2,3]"
   ]
  },
  {
   "cell_type": "code",
   "execution_count": 2,
   "metadata": {},
   "outputs": [
    {
     "ename": "IndexError",
     "evalue": "list index out of range",
     "output_type": "error",
     "traceback": [
      "\u001b[0;31m---------------------------------------------------------------------------\u001b[0m",
      "\u001b[0;31mIndexError\u001b[0m                                Traceback (most recent call last)",
      "\u001b[0;32m<ipython-input-2-ed40d1f49c42>\u001b[0m in \u001b[0;36m<module>\u001b[0;34m\u001b[0m\n\u001b[0;32m----> 1\u001b[0;31m \u001b[0ma\u001b[0m\u001b[0;34m[\u001b[0m\u001b[0;36m4\u001b[0m\u001b[0;34m]\u001b[0m\u001b[0;34m\u001b[0m\u001b[0;34m\u001b[0m\u001b[0m\n\u001b[0m",
      "\u001b[0;31mIndexError\u001b[0m: list index out of range"
     ]
    }
   ],
   "source": [
    "a[1+4-3]"
   ]
  }
 ],
 "metadata": {
  "kernelspec": {
   "display_name": "Python 3",
   "language": "python",
   "name": "python3"
  },
  "language_info": {
   "codemirror_mode": {
    "name": "ipython",
    "version": 3
   },
   "file_extension": ".py",
   "mimetype": "text/x-python",
   "name": "python",
   "nbconvert_exporter": "python",
   "pygments_lexer": "ipython3",
   "version": "3.8.10"
  }
 },
 "nbformat": 4,
 "nbformat_minor": 4
}
