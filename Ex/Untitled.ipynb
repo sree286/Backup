{
 "cells": [
  {
   "cell_type": "code",
   "execution_count": 23,
   "metadata": {},
   "outputs": [],
   "source": [
    "def getMinimumTrips(weights):\n",
    "    w_c = list(set(weights))\n",
    "    tot_cnt = 0\n",
    "    \n",
    "    for i in w_c:\n",
    "        cnt = weights.count(i)\n",
    "        \n",
    "        while cnt>0:\n",
    "            if cnt%3!=1 and cnt>=3:\n",
    "                tot_cnt += cnt//3\n",
    "                cnt %= 3\n",
    "            elif cnt%2!=1:\n",
    "                tot_cnt += cnt//2\n",
    "                cnt %= 2\n",
    "            else:\n",
    "                return -1\n",
    "        \n",
    "    return tot_cnt"
   ]
  }
 ],
 "metadata": {
  "kernelspec": {
   "display_name": "Python 3",
   "language": "python",
   "name": "python3"
  },
  "language_info": {
   "codemirror_mode": {
    "name": "ipython",
    "version": 3
   },
   "file_extension": ".py",
   "mimetype": "text/x-python",
   "name": "python",
   "nbconvert_exporter": "python",
   "pygments_lexer": "ipython3",
   "version": "3.8.10"
  }
 },
 "nbformat": 4,
 "nbformat_minor": 4
}
