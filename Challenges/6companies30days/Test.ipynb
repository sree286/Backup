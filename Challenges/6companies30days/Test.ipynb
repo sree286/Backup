{
 "cells": [
  {
   "cell_type": "code",
   "execution_count": 1,
   "metadata": {},
   "outputs": [],
   "source": [
    "# Given input 'k' = number of combinations that sum up to 'n'\n",
    "\n",
    "k = 3\n",
    "n = 7"
   ]
  },
  {
   "cell_type": "code",
   "execution_count": 106,
   "metadata": {},
   "outputs": [],
   "source": [
    "def combinations(k,n,start=1):\n",
    "    res = []\n",
    "    \n",
    "    if k<1:\n",
    "        if n==0:\n",
    "            return [start-1]\n",
    "        elif n<0:\n",
    "            return 1\n",
    "        return 0\n",
    "    \n",
    "    for i in range(start,10):\n",
    "        temp = [i]\n",
    "        combo = combinations(k-1,n-i,i+1)\n",
    "        if combo:\n",
    "            if combo==1:\n",
    "                return 0\n",
    "            if k==1:\n",
    "                return [combo]\n",
    "            else:\n",
    "                for l in combo:\n",
    "                    res.append(temp+l)\n",
    "\n",
    "    return res\n",
    "            \n",
    "            "
   ]
  },
  {
   "cell_type": "code",
   "execution_count": 119,
   "metadata": {
    "scrolled": false
   },
   "outputs": [
    {
     "data": {
      "text/plain": [
       "[[1, 2, 3, 9],\n",
       " [1, 2, 4, 8],\n",
       " [1, 2, 5, 7],\n",
       " [1, 3, 4, 7],\n",
       " [1, 3, 5, 6],\n",
       " [2, 3, 4, 6]]"
      ]
     },
     "execution_count": 119,
     "metadata": {},
     "output_type": "execute_result"
    }
   ],
   "source": [
    "combinations(4,15)"
   ]
  },
  {
   "cell_type": "code",
   "execution_count": null,
   "metadata": {},
   "outputs": [],
   "source": []
  }
 ],
 "metadata": {
  "kernelspec": {
   "display_name": "Python 3",
   "language": "python",
   "name": "python3"
  },
  "language_info": {
   "codemirror_mode": {
    "name": "ipython",
    "version": 3
   },
   "file_extension": ".py",
   "mimetype": "text/x-python",
   "name": "python",
   "nbconvert_exporter": "python",
   "pygments_lexer": "ipython3",
   "version": "3.8.10"
  }
 },
 "nbformat": 4,
 "nbformat_minor": 4
}
