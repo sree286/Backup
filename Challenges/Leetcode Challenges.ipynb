{
 "cells": [
  {
   "cell_type": "code",
   "execution_count": 1,
   "metadata": {},
   "outputs": [],
   "source": [
    "def alternateDigitSum(n):\n",
    "    n = [i for i in str(n)]\n",
    "    a = sum(list(map(int,n[::2])))\n",
    "    b = sum(list(map(int,n[1::2])))\n",
    "    c = a-b\n",
    "    return c"
   ]
  },
  {
   "cell_type": "code",
   "execution_count": 2,
   "metadata": {},
   "outputs": [
    {
     "data": {
      "text/plain": [
       "4"
      ]
     },
     "execution_count": 2,
     "metadata": {},
     "output_type": "execute_result"
    }
   ],
   "source": [
    "alternateDigitSum(521)"
   ]
  },
  {
   "cell_type": "code",
   "execution_count": 3,
   "metadata": {},
   "outputs": [],
   "source": [
    "def sortTheStudents(score, k):\n",
    "    score.sort(key=lambda x:x[k],reverse=True)\n",
    "    return score"
   ]
  },
  {
   "cell_type": "code",
   "execution_count": 4,
   "metadata": {},
   "outputs": [
    {
     "data": {
      "text/plain": [
       "[[7, 5, 11, 2], [10, 6, 9, 1], [4, 8, 3, 15]]"
      ]
     },
     "execution_count": 4,
     "metadata": {},
     "output_type": "execute_result"
    }
   ],
   "source": [
    "sortTheStudents([[10,6,9,1],[7,5,11,2],[4,8,3,15]],2)"
   ]
  },
  {
   "cell_type": "code",
   "execution_count": 5,
   "metadata": {},
   "outputs": [],
   "source": [
    "def makeStringsEqual(s, target):\n",
    "    for i in range(len(s)):\n",
    "        for j in range(len(s)):\n",
    "            temp = s\n",
    "            a_i = int(s[i])\n",
    "            a_j = int(s[j])\n",
    "            temp = temp[:i] + str(a_i or a_j) + temp[i+1:]\n",
    "            temp = temp[:i] + str(a_i ^ a_j) + temp[i+1:]\n",
    "            print(temp)\n",
    "            if temp == target:\n",
    "                return True\n",
    "    return False\n",
    "            "
   ]
  },
  {
   "cell_type": "code",
   "execution_count": 6,
   "metadata": {},
   "outputs": [
    {
     "name": "stdout",
     "output_type": "stream",
     "text": [
      "0010\n",
      "1010\n",
      "0010\n",
      "1010\n",
      "1110\n",
      "1010\n",
      "1110\n",
      "1010\n",
      "1000\n",
      "1010\n",
      "1000\n",
      "1010\n",
      "1011\n",
      "1010\n",
      "1011\n",
      "1010\n"
     ]
    },
    {
     "data": {
      "text/plain": [
       "False"
      ]
     },
     "execution_count": 6,
     "metadata": {},
     "output_type": "execute_result"
    }
   ],
   "source": [
    "makeStringsEqual(\"1010\",\"0110\")"
   ]
  },
  {
   "cell_type": "code",
   "execution_count": null,
   "metadata": {},
   "outputs": [],
   "source": []
  }
 ],
 "metadata": {
  "kernelspec": {
   "display_name": "Python 3",
   "language": "python",
   "name": "python3"
  },
  "language_info": {
   "codemirror_mode": {
    "name": "ipython",
    "version": 3
   },
   "file_extension": ".py",
   "mimetype": "text/x-python",
   "name": "python",
   "nbconvert_exporter": "python",
   "pygments_lexer": "ipython3",
   "version": "3.8.10"
  }
 },
 "nbformat": 4,
 "nbformat_minor": 4
}
