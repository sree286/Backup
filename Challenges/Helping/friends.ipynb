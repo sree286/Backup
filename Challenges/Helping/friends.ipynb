{
 "cells": [
  {
   "cell_type": "code",
   "execution_count": 10,
   "metadata": {},
   "outputs": [
    {
     "name": "stdout",
     "output_type": "stream",
     "text": [
      "0\n"
     ]
    }
   ],
   "source": [
    "n, d = map(int, input().split())\n",
    "record = {}\n",
    "\n",
    "for _ in range(n):\n",
    "    x, y, t = input().split()\n",
    "    key = x+\"_\" +y\n",
    "    record[key] = int(t)\n",
    "    \n",
    "keys = list(record.keys())\n",
    "index = 0\n",
    "count = 0\n",
    "\n",
    "while keys:\n",
    "    key = keys[index]\n",
    "    t1 = record[key]\n",
    "    keys.remove(key)\n",
    "    \n",
    "    x, y = key.split(\"_\")\n",
    "    key = y+\"_\"+x\n",
    "    if key not in keys:\n",
    "        continue\n",
    "        \n",
    "    t2 = record[key]\n",
    "    keys.remove(key)\n",
    "    \n",
    "    if (t2-t1) <= d:\n",
    "        count += 1\n",
    "        \n",
    "print(count)"
   ]
  },
  {
   "cell_type": "code",
   "execution_count": null,
   "metadata": {},
   "outputs": [],
   "source": []
  }
 ],
 "metadata": {
  "kernelspec": {
   "display_name": "Python 3",
   "language": "python",
   "name": "python3"
  },
  "language_info": {
   "codemirror_mode": {
    "name": "ipython",
    "version": 3
   },
   "file_extension": ".py",
   "mimetype": "text/x-python",
   "name": "python",
   "nbconvert_exporter": "python",
   "pygments_lexer": "ipython3",
   "version": "3.8.10"
  }
 },
 "nbformat": 4,
 "nbformat_minor": 4
}
