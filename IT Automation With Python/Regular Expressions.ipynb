{
 "cells": [
  {
   "cell_type": "markdown",
   "metadata": {},
   "source": [
    "# Regular Expressions"
   ]
  },
  {
   "cell_type": "markdown",
   "metadata": {},
   "source": [
    "Regular Expression (or) RegEx is a sequence of characters that specifies a search pattern in text. RegEx can be used to check if a string contians the specified search pattern. We can find and replace the specified text using Regular Expressions.  \n",
    "Regular Expressions are very useful for data cleaning, input validation, reading log errors and etc.  \n",
    "Python contains inbuilt package 're', which can be used to work with RegEx's."
   ]
  },
  {
   "cell_type": "code",
   "execution_count": 1,
   "metadata": {},
   "outputs": [],
   "source": [
    "import re"
   ]
  },
  {
   "cell_type": "markdown",
   "metadata": {},
   "source": [
    "## Functions\n",
    "`re` module offers a set of useful functions that allows us to search for a match\n",
    "\n",
    "**search** - Returns a match object if there is a match anywhere in the string.  \n",
    "**Findall** - Returns a list containing all matches.  \n",
    "**split** - Return a list where the string has been split at each match.  \n",
    "**Sub** - Replaces one or many matches with a string."
   ]
  },
  {
   "cell_type": "markdown",
   "metadata": {},
   "source": [
    "## search()\n",
    "The most useful method is search method.  \n",
    "Takes two arguments `pattern` and `string`  \n",
    "*Pattern* is the pattern of the text we looking for.  \n",
    "*string* is the text we have to look into (simply the target text)  \n",
    "**Syntax :** `re.search(pattern, string)`"
   ]
  },
  {
   "cell_type": "code",
   "execution_count": 13,
   "metadata": {},
   "outputs": [
    {
     "data": {
      "text/plain": [
       "<re.Match object; span=(7, 12), match='hello'>"
      ]
     },
     "execution_count": 13,
     "metadata": {},
     "output_type": "execute_result"
    }
   ],
   "source": [
    "pattern = r\"hello\"    #Always use raw_string for pattern\n",
    "string = \"I said hello\"\n",
    "re.search(pattern, string)"
   ]
  },
  {
   "cell_type": "code",
   "execution_count": 4,
   "metadata": {},
   "outputs": [
    {
     "data": {
      "text/plain": [
       "<re.Match object; span=(2, 9), match='want to'>"
      ]
     },
     "execution_count": 4,
     "metadata": {},
     "output_type": "execute_result"
    }
   ],
   "source": [
    "re.search(r\"want to\",\"I want to go home\")"
   ]
  },
  {
   "cell_type": "markdown",
   "metadata": {},
   "source": [
    "*search* function searches the string for the match, and returns a Match object if there is match else it returns None  \n",
    "If there is more than one match. Only the first occurance of the match will be returned.  \n",
    "  \n",
    "`Match` object contains `span` which is the range of matched text, and `match` tell us what it exactly matched (our pattern)  \n",
    "  "
   ]
  },
  {
   "cell_type": "markdown",
   "metadata": {},
   "source": [
    "## Metacharacters  \n",
    "- Most of the letters and numbers match themselves while we pass them as a pattern as shown above. By default they are case-sensitive but we can enable case-insensitive also.\n",
    "- Except some characters doesn't obey this rule, called special metacharacters, and don't match themselves. \n",
    "- Instead they are very useful and makes easy to build a pattern.\n",
    "- `Metacharacters :`  . ^ $ * + ? { } [ ] \\ | ( ).\n",
    "- Much we know about these characters much we become fluent with text matching.\n",
    "  "
   ]
  },
  {
   "cell_type": "markdown",
   "metadata": {},
   "source": [
    "### `[ ]`\n",
    "- They’re used for specifying a character class, which is a set of characters that we wish to match. \n",
    "- Characters can be listed individually, or a range of characters can be indicated by giving two characters and separating them by a '-'. \n",
    "- For example, [abc] will match any of the characters a, b, or c; this is the same as [a-c], which uses a range to express the same set of characters. If we wanted to match only lowercase alphabets, our RE would be [a-z].\n",
    "- [0-9] matches all the numbers from 0 to 9. ([0-9][0-9] matches all two digit numbers.), [A-Za-z0-9] will match any hexadecimal digit.  \n",
    "- Characters that are not within a range can be matched by complementing the set. If the first character of the set is `'^'`, all the characters that are not in the set will be matched. For example, [^5] will match any character except '5', and [^^] will match any character except '^'. ^ has no special meaning if it’s not the first character in the set.\n",
    "- Metacharacters (except \\\\) are not active inside classes. For example, [akm$\\$$] will match any of the characters 'a', 'k', 'm', or '$\\$$'; '$' is usually a metacharacter, but inside a character class it’s stripped of its special nature."
   ]
  },
  {
   "cell_type": "code",
   "execution_count": 17,
   "metadata": {},
   "outputs": [
    {
     "name": "stdout",
     "output_type": "stream",
     "text": [
      "<re.Match object; span=(0, 1), match='c'>\n",
      "<re.Match object; span=(0, 1), match='C'>\n"
     ]
    }
   ],
   "source": [
    "#Both ouputs the same result\n",
    "print(re.search(r'[abc]','cab'))\n",
    "print(re.search(r'[a-c]','cab'))"
   ]
  },
  {
   "cell_type": "code",
   "execution_count": 15,
   "metadata": {},
   "outputs": [
    {
     "name": "stdout",
     "output_type": "stream",
     "text": [
      "<re.Match object; span=(0, 1), match='H'>\n"
     ]
    }
   ],
   "source": [
    "print(re.search(r'[^l]','Hello'))"
   ]
  },
  {
   "cell_type": "markdown",
   "metadata": {},
   "source": [
    "## \\\n",
    "\n",
    "- Perhaps the most important metacharacter is the backslash, \\. As in Python string literals, the backslash can be followed by various characters to signal various special sequences. It’s also used to escape all the metacharacters so you can still match them in patterns; for example, if you need to match a [ or \\\\, you can precede them with a backslash to remove their special meaning: \\\\[ or \\\\\\\\.\n",
    "- Some of the special sequences beginning with '\\\\' represent predefined sets of characters that are often useful, such as the set of digits, the set of letters, or the set of anything that isn’t whitespace.\n",
    "- **\\\\A** - Matches only at the start of the string. (Equal to ^)\n",
    "- **\\\\b** - Matches the empty string, but only at the beginning or end of a word.\n",
    "- **\\\\B** - Matches the empty string, but only when it is not at the beginning or end of a word. This means that r'py\\B' matches 'python', 'py3', 'py2', but not 'py', 'py.', or 'py!'. \\B is just the opposite of \\b\n",
    "- **\\\\A** - Matches only at the start of the string.\n",
    "- **\\\\d** - Matches any decimal digit; This is equivalent to the class [0-9].\n",
    "- **\\\\D** - Matches any non decimal digit character; This is equivalent to the class [^0-9].\n",
    "- **\\\\s** - Matches any whitespace character; This is equivalent to the class [ \\t\\n\\r\\f\\v].\n",
    "- **\\\\S** - Matches any non-whitespace character; This is equivalent to the class [^ \\t\\n\\r\\f\\v].\n",
    "- **\\\\w** - Matches any alphanumeric character; This is equivalent to the class [a-zA-Z0-9_]\n",
    "- **\\\\W** - Matches any non-alphanumeric character; This is equivalent to the class [^a-zA-Z0-9_]\n",
    "- **\\\\Z** - Matches only at the end of the string. (Equal to $)"
   ]
  },
  {
   "cell_type": "code",
   "execution_count": 66,
   "metadata": {},
   "outputs": [
    {
     "name": "stdout",
     "output_type": "stream",
     "text": [
      "<re.Match object; span=(0, 14), match='I travel 40kms'>\n",
      "<re.Match object; span=(2, 8), match='travel'>\n",
      "<re.Match object; span=(2, 22), match='travel 40kms to go t'>\n",
      "<re.Match object; span=(9, 10), match='4'>\n",
      "<re.Match object; span=(0, 1), match='I'>\n",
      "<re.Match object; span=(0, 1), match='I'>\n",
      "<re.Match object; span=(1, 2), match=' '>\n",
      "<re.Match object; span=(0, 1), match='I'>\n",
      "<re.Match object; span=(1, 2), match=' '>\n",
      "<re.Match object; span=(0, 28), match='I travel 40kms to go to home'>\n"
     ]
    }
   ],
   "source": [
    "print(re.search(r'\\AI.*s','I travel 40kms to go to home'))\n",
    "print(re.search(r'\\btravel\\b','I travel 40kms to go to home'))\n",
    "print(re.search(r't.*t\\B','I travel 40kms to go to home'))\n",
    "print(re.search(r'\\d','I travel 40kms to go to home'))\n",
    "print(re.search(r'\\D','I travel 40kms to go to home'))\n",
    "print(re.search(r'\\w','I travel 40kms to go to home'))\n",
    "print(re.search(r'\\s','I travel 40kms to go to home'))\n",
    "print(re.search(r'\\S','I travel 40kms to go to home'))\n",
    "print(re.search(r'\\W','I travel 40kms to go to home'))\n",
    "print(re.search(r'I.*e\\Z','I travel 40kms to go to home'))"
   ]
  },
  {
   "cell_type": "markdown",
   "metadata": {},
   "source": [
    "## Repeating Things\n",
    "To repeat a pattern or match multiple characters, we use special metacharacters in the pattern."
   ]
  },
  {
   "cell_type": "markdown",
   "metadata": {},
   "source": [
    "### *\n",
    "Causes the resulting RE to match 0 or more repetitions of the preceding RE, as many repetitions as are possible. ab* will match ‘a’, ‘ab’, or ‘a’ followed by any number of ‘b’s."
   ]
  },
  {
   "cell_type": "code",
   "execution_count": 4,
   "metadata": {},
   "outputs": [
    {
     "name": "stdout",
     "output_type": "stream",
     "text": [
      "<re.Match object; span=(0, 2), match='ct'>\n",
      "<re.Match object; span=(0, 3), match='cat'>\n",
      "<re.Match object; span=(0, 4), match='caat'>\n",
      "<re.Match object; span=(0, 8), match='caaaaaat'>\n"
     ]
    }
   ],
   "source": [
    "pattern = r'ca*t'\n",
    "print(re.search(pattern,'ct'))      #0 'a' Characters \n",
    "print(re.search(pattern,'cat'))     #1 'a' Characters \n",
    "print(re.search(pattern,'caat'))    #2 'a' Characters \n",
    "print(re.search(pattern,'caaaaaat'))#Many 'a' Characters "
   ]
  },
  {
   "cell_type": "markdown",
   "metadata": {},
   "source": [
    "When repeating a RE, the matching engine will try to repeat it as many times as possible. If later portions of the pattern don't match, the matching engine backup and match one less character in repeating class and check for later portion for match. It repeats until it founds a match for the pattern."
   ]
  },
  {
   "cell_type": "code",
   "execution_count": 7,
   "metadata": {},
   "outputs": [
    {
     "name": "stdout",
     "output_type": "stream",
     "text": [
      "<re.Match object; span=(0, 4), match='abcb'>\n"
     ]
    }
   ],
   "source": [
    "print(re.search(r'a[bcd]*b', 'abcbd'))"
   ]
  },
  {
   "cell_type": "markdown",
   "metadata": {},
   "source": [
    "### +\n",
    "Matches one or more repetitions."
   ]
  },
  {
   "cell_type": "code",
   "execution_count": 10,
   "metadata": {},
   "outputs": [
    {
     "name": "stdout",
     "output_type": "stream",
     "text": [
      "None\n",
      "<re.Match object; span=(0, 3), match='cat'>\n",
      "<re.Match object; span=(0, 4), match='caat'>\n",
      "<re.Match object; span=(0, 8), match='caaaaaat'>\n"
     ]
    }
   ],
   "source": [
    "pattern = r'ca+t'\n",
    "print(re.search(pattern,'ct'))      #0 'a' Characters returns None\n",
    "print(re.search(pattern,'cat'))     #1 'a' Characters \n",
    "print(re.search(pattern,'caat'))    #2 'a' Characters \n",
    "print(re.search(pattern,'caaaaaat'))#Many 'a' Characters "
   ]
  },
  {
   "cell_type": "markdown",
   "metadata": {},
   "source": [
    "### ?\n",
    "Matches either once or twice"
   ]
  },
  {
   "cell_type": "code",
   "execution_count": 15,
   "metadata": {},
   "outputs": [
    {
     "name": "stdout",
     "output_type": "stream",
     "text": [
      "<re.Match object; span=(0, 2), match='ct'>\n",
      "<re.Match object; span=(0, 3), match='cat'>\n",
      "None\n",
      "None\n"
     ]
    }
   ],
   "source": [
    "print(re.search(r'ca?t','ct'))\n",
    "print(re.search(r'ca?t','cat'))\n",
    "print(re.search(r'ca?t','caat'))"
   ]
  },
  {
   "cell_type": "markdown",
   "metadata": {},
   "source": [
    "### {m,n}\n",
    "We customize the number of repetitions, m is minimum repetitions, n is the maximum repetitons, You can omit either m or n. Omitting m is interpreted as a lower limit of 0, while omitting n results in an upper bound of infinity  \n",
    "{0,} is the same as `*`  \n",
    "{1,} is the same as `+`  \n",
    "{0,1} is the same as `?`"
   ]
  },
  {
   "cell_type": "code",
   "execution_count": 41,
   "metadata": {},
   "outputs": [
    {
     "name": "stdout",
     "output_type": "stream",
     "text": [
      "None\n",
      "<re.Match object; span=(0, 3), match='a/b'>\n",
      "<re.Match object; span=(0, 5), match='a///b'>\n",
      "None\n"
     ]
    }
   ],
   "source": [
    "pattern = r'a/{1,3}b'             \n",
    "print(re.search(pattern,'ab'))\n",
    "print(re.search(pattern,'a/b'))\n",
    "print(re.search(pattern,'a///b'))\n",
    "print(re.search(pattern,'a////b'))"
   ]
  },
  {
   "cell_type": "markdown",
   "metadata": {},
   "source": [
    "## .\n",
    "In the default mode, this matches any character except a newline. If the DOTALL flag has been specified, this matches any character including a newline."
   ]
  },
  {
   "cell_type": "code",
   "execution_count": 44,
   "metadata": {},
   "outputs": [
    {
     "name": "stdout",
     "output_type": "stream",
     "text": [
      "<re.Match object; span=(0, 4), match='ball'>\n",
      "<re.Match object; span=(0, 4), match='bill'>\n"
     ]
    }
   ],
   "source": [
    "pattern = r'b.ll'\n",
    "print(re.search(pattern,'ball'))\n",
    "print(re.search(pattern,'bill gates'))"
   ]
  },
  {
   "cell_type": "markdown",
   "metadata": {},
   "source": [
    "## ^\n",
    "Matches the start of the string"
   ]
  },
  {
   "cell_type": "code",
   "execution_count": 50,
   "metadata": {},
   "outputs": [
    {
     "name": "stdout",
     "output_type": "stream",
     "text": [
      "None\n",
      "<re.Match object; span=(0, 12), match='Tyler Killed'>\n"
     ]
    }
   ],
   "source": [
    "print(re.search(r\"^t.*ed\",\"Did tyler killed dodge\",re.IGNORECASE))\n",
    "print(re.search(r\"^t.*ed\",\"Tyler Killed dodge\",re.IGNORECASE))"
   ]
  },
  {
   "cell_type": "markdown",
   "metadata": {},
   "source": [
    "## $\n",
    "Matches the end of the string"
   ]
  },
  {
   "cell_type": "code",
   "execution_count": 53,
   "metadata": {},
   "outputs": [
    {
     "name": "stdout",
     "output_type": "stream",
     "text": [
      "None\n",
      "<re.Match object; span=(19, 22), match='one'>\n"
     ]
    }
   ],
   "source": [
    "print(re.search(r\"one$\",\"Lucy is one of the cutest\",re.IGNORECASE))\n",
    "print(re.search(r\"one$\",\"Lucy is the cutest one\",re.IGNORECASE))"
   ]
  },
  {
   "cell_type": "markdown",
   "metadata": {},
   "source": [
    "## |\n",
    "A|B, where A and B can be arbitrary REs, creates a regular expression that will match either A or B."
   ]
  },
  {
   "cell_type": "code",
   "execution_count": 57,
   "metadata": {},
   "outputs": [
    {
     "name": "stdout",
     "output_type": "stream",
     "text": [
      "<re.Match object; span=(0, 4), match='Book'>\n",
      "<re.Match object; span=(0, 4), match='Look'>\n",
      "<re.Match object; span=(8, 11), match='man'>\n",
      "<re.Match object; span=(9, 14), match='woman'>\n"
     ]
    }
   ],
   "source": [
    "print(re.search(r'[L|B]ook','Book a cab'))\n",
    "print(re.search(r'[L|B]ook','Look for the cab'))\n",
    "print(re.search(r'man|woman','He is a man'))\n",
    "print(re.search(r'man|woman','She is a woman'))"
   ]
  },
  {
   "cell_type": "markdown",
   "metadata": {},
   "source": [
    "## ()\n",
    "Used to create groups in the pattern, the contents of a group can be retrieved after a match has been performed."
   ]
  },
  {
   "cell_type": "code",
   "execution_count": 63,
   "metadata": {},
   "outputs": [
    {
     "name": "stdout",
     "output_type": "stream",
     "text": [
      "<re.Match object; span=(0, 13), match='Kinsey, locke'>\n",
      "Kinsey\n",
      "locke\n"
     ]
    }
   ],
   "source": [
    "a = re.search(r'([\\w]+), (\\w+)','Kinsey, locke')\n",
    "print(a)\n",
    "print(a[1])   #Group 1\n",
    "print(a[2])   #Group 2"
   ]
  },
  {
   "cell_type": "markdown",
   "metadata": {},
   "source": [
    "## (?...)\n",
    "his is useful if you wish to include the flags as part of the regular expression, instead of passing a flag argument to the function. Flags should be used first in the expression string"
   ]
  },
  {
   "cell_type": "code",
   "execution_count": 71,
   "metadata": {},
   "outputs": [
    {
     "name": "stdout",
     "output_type": "stream",
     "text": [
      "<re.Match object; span=(0, 2), match='aB'>\n"
     ]
    }
   ],
   "source": [
    "print(re.search(r'(?i)ab','aB')) # i represents IgnoreCase"
   ]
  },
  {
   "cell_type": "markdown",
   "metadata": {},
   "source": [
    "## (?P\\<name>...)\n",
    "Similar to regular parentheses, but the substring matched by the group is accessible via the symbolic group name name"
   ]
  },
  {
   "cell_type": "code",
   "execution_count": 25,
   "metadata": {},
   "outputs": [
    {
     "name": "stdout",
     "output_type": "stream",
     "text": [
      "<re.Match object; span=(5, 36), match='playing \"Cricket\" in the ground'>\n",
      "\"Cricket\"\n"
     ]
    }
   ],
   "source": [
    "exp = re.search(r'playing.*(?P<in_quotes>\".*\").*','I am playing \"Cricket\" in the ground')\n",
    "print(exp)\n",
    "print(exp.group(\"in_quotes\"))"
   ]
  },
  {
   "cell_type": "markdown",
   "metadata": {},
   "source": [
    "## (?=...)\n",
    "Matches if ... matches next, but doesn’t consume any of the string. This is called a lookahead assertion. For example, Isaac (?=Newton) will match 'Isaac ' only if it’s followed by 'Newton'."
   ]
  },
  {
   "cell_type": "code",
   "execution_count": 102,
   "metadata": {},
   "outputs": [
    {
     "name": "stdout",
     "output_type": "stream",
     "text": [
      "<re.Match object; span=(0, 6), match='Isaac '>\n",
      "None\n"
     ]
    }
   ],
   "source": [
    "pattern = r\"Isaac (?=Newton)\"\n",
    "print(re.search(pattern, \"Isaac Newton\"))\n",
    "print(re.search(pattern, \"Isaac Asimov\"))"
   ]
  },
  {
   "cell_type": "markdown",
   "metadata": {},
   "source": [
    "## (?!...)\n",
    "Matches if ... doesn’t match next. This is a negative lookahead assertion. For example, Isaac (?!Newton) will match 'Isaac ' only if it’s not followed by 'Newton'."
   ]
  },
  {
   "cell_type": "code",
   "execution_count": 28,
   "metadata": {},
   "outputs": [
    {
     "name": "stdout",
     "output_type": "stream",
     "text": [
      "None\n",
      "<re.Match object; span=(0, 6), match='Isaac '>\n"
     ]
    }
   ],
   "source": [
    "pattern = r\"Isaac (?!Newton)\"\n",
    "print(re.search(pattern, \"Isaac Newton\"))\n",
    "print(re.search(pattern, \"Isaac Asimov\"))"
   ]
  },
  {
   "cell_type": "markdown",
   "metadata": {},
   "source": [
    "## (?<=...)\n",
    "Matches if the current position in the string is preceded by a match for ... that ends at the current position. This is called a positive lookbehind assertion. (?<=abc)def will find a match in 'abcdef',"
   ]
  },
  {
   "cell_type": "code",
   "execution_count": 31,
   "metadata": {},
   "outputs": [
    {
     "name": "stdout",
     "output_type": "stream",
     "text": [
      "<re.Match object; span=(5, 8), match='egg'>\n"
     ]
    }
   ],
   "source": [
    "print(re.search(r'(?<=-)\\w+','spam-egg'))"
   ]
  },
  {
   "cell_type": "markdown",
   "metadata": {},
   "source": [
    "## (?<!...)\n",
    "Matches if the current position in the string is not preceded by a match for .... This is called a negative lookbehind assertion. "
   ]
  },
  {
   "cell_type": "code",
   "execution_count": 34,
   "metadata": {},
   "outputs": [
    {
     "name": "stdout",
     "output_type": "stream",
     "text": [
      "<re.Match object; span=(0, 4), match='spam'>\n"
     ]
    }
   ],
   "source": [
    "print(re.search(r'(?<!-)\\w+','spam-egg'))"
   ]
  },
  {
   "cell_type": "markdown",
   "metadata": {},
   "source": [
    "## findall()\n",
    "- Return all non-overlapping matches of pattern in string, as a list of strings or tuples. The string is scanned left-to-right, and matches are returned in the order found. Empty matches are included in the result.\n",
    "- The result depends on the number of capturing groups in the pattern. If there are no groups, return a list of strings matching the whole pattern.\n",
    "- If there is exactly one group, return a list of strings matching that group. If multiple groups are present, return a list of tuples of strings matching the groups. Non-capturing groups do not affect the form of the result."
   ]
  },
  {
   "cell_type": "code",
   "execution_count": 68,
   "metadata": {},
   "outputs": [
    {
     "name": "stdout",
     "output_type": "stream",
     "text": [
      "['foot', 'fell', 'fastest']\n",
      "[('width', '20'), ('height', '30')]\n"
     ]
    }
   ],
   "source": [
    "print(re.findall(r'\\bf[a-z]*','which foot or hand fell fastest')) #returns list with the strings that starts with f\n",
    "print(re.findall(r'(\\w+)=(\\d+)','set width=20 and height=30')) #returns list with tuples "
   ]
  },
  {
   "cell_type": "markdown",
   "metadata": {},
   "source": [
    "## split()\n",
    "Split string by the matches of the regular expression. If capturing parentheses are used in the RE, then their contents will also be returned as part of the resulting list. If maxsplit is nonzero, at most maxsplit splits are performed."
   ]
  },
  {
   "cell_type": "code",
   "execution_count": 72,
   "metadata": {},
   "outputs": [
    {
     "name": "stdout",
     "output_type": "stream",
     "text": [
      "['Words', 'words', 'words', '']\n",
      "['Words', ', ', 'words', ', ', 'words', '.', '']\n",
      "['Words', 'words, words.']\n"
     ]
    }
   ],
   "source": [
    "print(re.split(r'\\W+','Words, words, words.'))\n",
    "print(re.split(r'(\\W+)','Words, words, words.'))\n",
    "print(re.split(r'\\W+','Words, words, words.',1))"
   ]
  },
  {
   "cell_type": "markdown",
   "metadata": {},
   "source": [
    "## sub()\n",
    "- Returns the string obtained by replacing the leftmost non-overlapping occurrences of the RE in string by the replacement replacement. If the pattern isn’t found, string is returned unchanged.\n",
    "- The optional argument count is the maximum number of pattern occurrences to be replaced; count must be a non-negative integer. The default value of 0 means to replace all occurrences."
   ]
  },
  {
   "cell_type": "code",
   "execution_count": 75,
   "metadata": {},
   "outputs": [
    {
     "name": "stdout",
     "output_type": "stream",
     "text": [
      "color shocks and color shoes\n",
      "color shocks and red shoes\n"
     ]
    }
   ],
   "source": [
    "print(re.sub(r'(blue|red|white)', 'color', 'blue shocks and red shoes'))\n",
    "print(re.sub(r'(blue|red|white)', 'color', 'blue shocks and red shoes',count=1))"
   ]
  },
  {
   "cell_type": "code",
   "execution_count": 85,
   "metadata": {},
   "outputs": [
    {
     "name": "stdout",
     "output_type": "stream",
     "text": [
      "Call 0xffd2 for printing, 0xc000 for user code.\n"
     ]
    }
   ],
   "source": [
    "def hexrepl(match):\n",
    "    \"Return the hex string for a decimal number\"\n",
    "    value = int(match.group())\n",
    "    return hex(value)\n",
    "\n",
    "print(re.sub(r'\\d+', hexrepl, 'Call 65490 for printing, 49152 for user code.'))"
   ]
  },
  {
   "cell_type": "markdown",
   "metadata": {},
   "source": [
    "# Another useful Functions"
   ]
  },
  {
   "cell_type": "markdown",
   "metadata": {},
   "source": [
    "## match()\n",
    "If zero or more characters at the beginning of string match the regular expression pattern, return a corresponding match object. Return None if the string does not match the pattern; note that this is different from a zero-length match."
   ]
  },
  {
   "cell_type": "code",
   "execution_count": 91,
   "metadata": {},
   "outputs": [
    {
     "name": "stdout",
     "output_type": "stream",
     "text": [
      "<re.Match object; span=(0, 4), match='this'>\n",
      "None\n"
     ]
    }
   ],
   "source": [
    "print(re.match(r'[a-z]+','this matches'))\n",
    "print(re.match(r'[a-z]+','This return None'))"
   ]
  },
  {
   "cell_type": "markdown",
   "metadata": {},
   "source": [
    "## fullmatch()\n",
    "If the whole string matches the regular expression pattern, return a corresponding match object. Return None if the string does not match the pattern; note that this is different from a zero-length match."
   ]
  },
  {
   "cell_type": "code",
   "execution_count": 95,
   "metadata": {},
   "outputs": [
    {
     "name": "stdout",
     "output_type": "stream",
     "text": [
      "<re.Match object; span=(0, 23), match='Whole string is matched'>\n",
      "None\n"
     ]
    }
   ],
   "source": [
    "print(re.fullmatch(r'[\\w ]+','Whole string is matched'))\n",
    "print(re.fullmatch(r'\\w+','Whole string is not matched'))"
   ]
  },
  {
   "cell_type": "markdown",
   "metadata": {},
   "source": [
    "## finditer()\n",
    "Return an iterator yielding match objects over all non-overlapping matches for the RE pattern in string. The string is scanned left-to-right, and matches are returned in the order found. Empty matches are included in the result."
   ]
  },
  {
   "cell_type": "code",
   "execution_count": 97,
   "metadata": {},
   "outputs": [
    {
     "name": "stdout",
     "output_type": "stream",
     "text": [
      "<re.Match object; span=(0, 3), match='Can'>\n",
      "<re.Match object; span=(6, 11), match='catch'>\n",
      "<re.Match object; span=(19, 25), match='cinema'>\n"
     ]
    }
   ],
   "source": [
    "result = re.finditer(r'\\bc[a-z]+','Can I catch you at cinema hall',re.I)\n",
    "for i in result:\n",
    "    print(i)"
   ]
  },
  {
   "cell_type": "markdown",
   "metadata": {},
   "source": [
    "## escape()\n",
    "Escape special characters in pattern. This is useful if you want to match an arbitrary literal string that may have regular expression metacharacters in it."
   ]
  },
  {
   "cell_type": "code",
   "execution_count": 117,
   "metadata": {},
   "outputs": [
    {
     "name": "stdout",
     "output_type": "stream",
     "text": [
      "https://www\\.python\\.org\n",
      "<re.Match object; span=(13, 35), match='https://www.python.org'>\n"
     ]
    }
   ],
   "source": [
    "pattern = re.escape('https://www.python.org')  # . is a metacharacter\n",
    "print(pattern)\n",
    "print(re.search(pattern,\"Please visit https://www.python.org\"))"
   ]
  },
  {
   "cell_type": "markdown",
   "metadata": {},
   "source": [
    "## compile()\n",
    "Compile a regular expression pattern into a regular expression object, which can be used for matching using its match(), search() and other methods, described below."
   ]
  },
  {
   "cell_type": "code",
   "execution_count": 125,
   "metadata": {},
   "outputs": [
    {
     "name": "stdout",
     "output_type": "stream",
     "text": [
      "re.compile('[a-z]+')\n"
     ]
    }
   ],
   "source": [
    "pattern = re.compile(r'[a-z]+')\n",
    "print(pattern)"
   ]
  },
  {
   "cell_type": "markdown",
   "metadata": {},
   "source": [
    "## Methods of Regular Expression\n",
    "### search(), match(), fullmatch(), findall(), finditer(),\n",
    "All the above methods performs similiar to Normal functions, only difference is we can give an index where the search is to start and to end. "
   ]
  },
  {
   "cell_type": "code",
   "execution_count": 128,
   "metadata": {},
   "outputs": [
    {
     "name": "stdout",
     "output_type": "stream",
     "text": [
      "<re.Match object; span=(0, 5), match='hello'>\n",
      "<re.Match object; span=(1, 5), match='ello'>\n"
     ]
    }
   ],
   "source": [
    "print(pattern.search(\"hello\"))\n",
    "print(pattern.search(\"hello\",1))"
   ]
  },
  {
   "cell_type": "markdown",
   "metadata": {},
   "source": [
    "we can extract useful information from the Match object."
   ]
  },
  {
   "cell_type": "code",
   "execution_count": 134,
   "metadata": {},
   "outputs": [
    {
     "name": "stdout",
     "output_type": "stream",
     "text": [
      "<re.Match object; span=(12, 22), match='28/04/2024'>\n",
      "28/04/2024\n",
      "(12, 22)\n",
      "12\n",
      "22\n",
      "('28', '04', '2024')\n"
     ]
    }
   ],
   "source": [
    "pattern = re.compile(r'(\\d+)/(\\d+)/(\\d+)',re.I)\n",
    "date = pattern.search(\"Meet you on 28/04/2024\")\n",
    "print(date)            # return Match object\n",
    "print(date.group())    # return matched text\n",
    "print(date.span())     # return range of matched text\n",
    "print(date.start())    # return starting position where match is started\n",
    "print(date.end())      # return end position where match is end\n",
    "print(date.groups())   # return all the groups in tuple"
   ]
  },
  {
   "cell_type": "markdown",
   "metadata": {},
   "source": [
    "In a Match object group(0) attribute returns entire match, group(1) returns first group of match. And resulting values return following groups, upto number of groups exists"
   ]
  },
  {
   "cell_type": "code",
   "execution_count": 139,
   "metadata": {},
   "outputs": [
    {
     "name": "stdout",
     "output_type": "stream",
     "text": [
      "28/04/2024\n",
      "28\n",
      "04\n",
      "2024\n"
     ]
    }
   ],
   "source": [
    "print(date.group(0))\n",
    "print(date.group(1))\n",
    "print(date.group(2))\n",
    "print(date.group(3))"
   ]
  },
  {
   "cell_type": "code",
   "execution_count": 141,
   "metadata": {},
   "outputs": [
    {
     "ename": "IndexError",
     "evalue": "no such group",
     "output_type": "error",
     "traceback": [
      "\u001b[0;31m---------------------------------------------------------------------------\u001b[0m",
      "\u001b[0;31mIndexError\u001b[0m                                Traceback (most recent call last)",
      "\u001b[0;32m<ipython-input-141-c273a7296b10>\u001b[0m in \u001b[0;36m<module>\u001b[0;34m\u001b[0m\n\u001b[0;32m----> 1\u001b[0;31m \u001b[0mprint\u001b[0m\u001b[0;34m(\u001b[0m\u001b[0mdate\u001b[0m\u001b[0;34m.\u001b[0m\u001b[0mgroup\u001b[0m\u001b[0;34m(\u001b[0m\u001b[0;36m4\u001b[0m\u001b[0;34m)\u001b[0m\u001b[0;34m)\u001b[0m  \u001b[0;31m# Error since group doesn't exist\u001b[0m\u001b[0;34m\u001b[0m\u001b[0;34m\u001b[0m\u001b[0m\n\u001b[0m",
      "\u001b[0;31mIndexError\u001b[0m: no such group"
     ]
    }
   ],
   "source": [
    "print(date.group(4))  # Error since group doesn't exist"
   ]
  },
  {
   "cell_type": "markdown",
   "metadata": {},
   "source": [
    "we can also use [] for accessing groups"
   ]
  },
  {
   "cell_type": "code",
   "execution_count": 142,
   "metadata": {},
   "outputs": [
    {
     "name": "stdout",
     "output_type": "stream",
     "text": [
      "28/04/2024\n",
      "28\n"
     ]
    }
   ],
   "source": [
    "print(date[0])\n",
    "print(date[1])"
   ]
  },
  {
   "cell_type": "markdown",
   "metadata": {},
   "source": [
    "# The End$"
   ]
  }
 ],
 "metadata": {
  "kernelspec": {
   "display_name": "Python 3",
   "language": "python",
   "name": "python3"
  },
  "language_info": {
   "codemirror_mode": {
    "name": "ipython",
    "version": 3
   },
   "file_extension": ".py",
   "mimetype": "text/x-python",
   "name": "python",
   "nbconvert_exporter": "python",
   "pygments_lexer": "ipython3",
   "version": "3.8.10"
  }
 },
 "nbformat": 4,
 "nbformat_minor": 4
}
