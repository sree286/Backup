{
 "cells": [
  {
   "cell_type": "code",
   "execution_count": null,
   "metadata": {},
   "outputs": [],
   "source": [
    "#!/usr/bin/env python3\n",
    "import csv\n",
    "\n",
    "def read_employees(csv_file_location):\n",
    "  csv.register_dialect('empDialect',skipinitialspace = True,strict=True)\n",
    "  employee_file = csv.DictReader(open(csv_file_location),dialect='empDialect')\n",
    "  employee_list = []\n",
    "  for data in employee_file:\n",
    "    employee_list.append(data)\n",
    "  return employee_list\n",
    "\n",
    "employee_list = read_employees('/home/student-02-79998db9bcbd/data/employees.cs$\n",
    "print(employee_list)"
   ]
  },
  {
   "cell_type": "code",
   "execution_count": 1,
   "metadata": {},
   "outputs": [
    {
     "ename": "NameError",
     "evalue": "name 'employee_list' is not defined",
     "output_type": "error",
     "traceback": [
      "\u001b[0;31m---------------------------------------------------------------------------\u001b[0m",
      "\u001b[0;31mNameError\u001b[0m                                 Traceback (most recent call last)",
      "\u001b[0;32m<ipython-input-1-3ef5a6601b08>\u001b[0m in \u001b[0;36m<module>\u001b[0;34m\u001b[0m\n\u001b[1;32m      8\u001b[0m   \u001b[0;32mreturn\u001b[0m \u001b[0mdepartment_data\u001b[0m\u001b[0;34m\u001b[0m\u001b[0;34m\u001b[0m\u001b[0m\n\u001b[1;32m      9\u001b[0m \u001b[0;34m\u001b[0m\u001b[0m\n\u001b[0;32m---> 10\u001b[0;31m \u001b[0mdictionary\u001b[0m \u001b[0;34m=\u001b[0m \u001b[0mprocess_data\u001b[0m\u001b[0;34m(\u001b[0m\u001b[0memployee_list\u001b[0m\u001b[0;34m)\u001b[0m\u001b[0;34m\u001b[0m\u001b[0;34m\u001b[0m\u001b[0m\n\u001b[0m",
      "\u001b[0;31mNameError\u001b[0m: name 'employee_list' is not defined"
     ]
    }
   ],
   "source": [
    "def process_data(employee_list):\n",
    "  department_list = []\n",
    "  for employee_data in employee_list:\n",
    "    department_list.append(employee_data[\"Department\"])\n",
    "  department_data = {}\n",
    "  for department_name in set(department_list):\n",
    "    department_data[department_name] = department_list.count(department_name)\n",
    "  return department_data\n",
    "\n",
    "dictionary = process_data(employee_list)"
   ]
  },
  {
   "cell_type": "code",
   "execution_count": null,
   "metadata": {},
   "outputs": [],
   "source": [
    "def write_report(dictionary, report_file):\n",
    "  with open(report_file, \"w+\") as f:\n",
    "    for k in sorted(dictionary):\n",
    "      f.write(str(k)+\":\"+str(dictionary[k])+\"\\n\")\n",
    "    f.close()\n",
    "\n",
    "write_report(dictionary,\"/home/student-02-79998db9bcbd/test_report.txt\")"
   ]
  }
 ],
 "metadata": {
  "kernelspec": {
   "display_name": "Python 3",
   "language": "python",
   "name": "python3"
  },
  "language_info": {
   "codemirror_mode": {
    "name": "ipython",
    "version": 3
   },
   "file_extension": ".py",
   "mimetype": "text/x-python",
   "name": "python",
   "nbconvert_exporter": "python",
   "pygments_lexer": "ipython3",
   "version": "3.8.10"
  }
 },
 "nbformat": 4,
 "nbformat_minor": 4
}
