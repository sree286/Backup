{
 "cells": [
  {
   "cell_type": "markdown",
   "metadata": {},
   "source": [
    "# Searching Algorithm\n",
    "Searching algorithms are the ones that are used for searching elements or group of elements from a particular data structures. They can be of different types based on their approach or the data structure in which the element should be found"
   ]
  },
  {
   "cell_type": "markdown",
   "metadata": {},
   "source": [
    "## Linear Search\n",
    "Linear search is defiend as a sequential search that starts at one end and goes through each element of a list until the desired element is found, otherwise search is continues till the end of the data set."
   ]
  },
  {
   "cell_type": "code",
   "execution_count": 13,
   "metadata": {},
   "outputs": [
    {
     "data": {
      "text/plain": [
       "0"
      ]
     },
     "execution_count": 13,
     "metadata": {},
     "output_type": "execute_result"
    }
   ],
   "source": [
    "# Search for a element and return the index of the element is exists\n",
    "\n",
    "def linear_search(arr,n):\n",
    "    \n",
    "    for index,i in enumerate(arr):\n",
    "        if i==n:\n",
    "            return index\n",
    "        \n",
    "    return \"Element doesn't exist\"        \n",
    "\n",
    "def recursive_linear_search(arr,n):\n",
    "    \n",
    "    if len(arr)==0:\n",
    "        return \"Element doesn't exist\"\n",
    "    elif arr[-1]==n:\n",
    "        return len(arr)-1\n",
    "    else:\n",
    "        return recursive_linear_search(arr[:-1],n)\n",
    "\n",
    "\n",
    "arr = [334,12,2,4,45,52,66,23,87]\n",
    "recursive_linear_search(arr,334)"
   ]
  },
  {
   "cell_type": "markdown",
   "metadata": {},
   "source": [
    "## Bineary Search\n",
    "Binary Search is a searching algorithm used in a sorted array by repeatedly dividing the search interval in half. The idea of binary search is to use the information that the array is sorted and reduce the time complexity to O(Log n). "
   ]
  },
  {
   "cell_type": "code",
   "execution_count": 63,
   "metadata": {},
   "outputs": [],
   "source": [
    "def binary_search(arr,n):\n",
    "    low = 0\n",
    "    high = len(arr)\n",
    "    while low<high:\n",
    "        mid = (low+high)//2\n",
    "        if arr[mid]==n:\n",
    "            return f\"{n} found at index {mid}\"\n",
    "        elif n<arr[mid]:\n",
    "            high = mid\n",
    "        else:\n",
    "            low = mid+1\n",
    "    return \"Element not found\"\n",
    "\n",
    "def recursive_binary_search(arr,n,low,high):\n",
    "    mid = (low+high)//2\n",
    "    if low>=high:\n",
    "        return \"Element not found\"\n",
    "    if arr[mid] == n:\n",
    "        return f\"{n} found at index {mid}\"\n",
    "    elif n < arr[mid]:\n",
    "        high = mid\n",
    "    else:\n",
    "        low = mid+1\n",
    "    return recursive_binary_search(arr,n,low,high)"
   ]
  },
  {
   "cell_type": "code",
   "execution_count": 70,
   "metadata": {},
   "outputs": [],
   "source": [
    "a = [0] * 3"
   ]
  },
  {
   "cell_type": "code",
   "execution_count": 78,
   "metadata": {},
   "outputs": [
    {
     "data": {
      "text/plain": [
       "[0, 0, 0]"
      ]
     },
     "execution_count": 78,
     "metadata": {},
     "output_type": "execute_result"
    }
   ],
   "source": [
    "a"
   ]
  }
 ],
 "metadata": {
  "kernelspec": {
   "display_name": "Python 3",
   "language": "python",
   "name": "python3"
  },
  "language_info": {
   "codemirror_mode": {
    "name": "ipython",
    "version": 3
   },
   "file_extension": ".py",
   "mimetype": "text/x-python",
   "name": "python",
   "nbconvert_exporter": "python",
   "pygments_lexer": "ipython3",
   "version": "3.8.10"
  }
 },
 "nbformat": 4,
 "nbformat_minor": 4
}
