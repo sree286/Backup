{
 "cells": [
  {
   "cell_type": "markdown",
   "metadata": {},
   "source": [
    "\n",
    "# Binary Search\n",
    "Binary search is a searching algorithm used to search an element in the given array. It is based on the divide and conquer algorithm.  \n",
    "To perform a bineary search, the array must be sorted. Let's say we are looking for an element `k`. We start by selecting the middle element of the array say it as `i`. Check `i` is equal to `k`. If it is true we found our element that we are looking for. If they are not equal we compare `i` and `k`. If `k < i` then our element will definitely located left to the element `i`. If `k > i` then our element will definitely located right to the element `i`. So, divide the array and choose the half array based on the condition. Perform the same stragey on the divided array until the element is found. If the divided array is empty then the element `k` is not present in the array.\n",
    "\n",
    "Lets take a simple example, In a sorted array below find if `6` is present in the array.\n",
    "<img src=\"./Images/bineary_search/Array.png\" style=\"width:350px;height:50px;\" >  \n",
    "\n",
    "- Select the middle element in the array, `i = 4`\n",
    "<img src=\"./Images/bineary_search/Array_highlighted.png\" style=\"width:350px;height:50px;\" >  \n",
    "- Compare `i` with `k`\n",
    "- `6 > 4`, So we consider the elements that are right to the `i`\n",
    "<img src=\"./Images/bineary_search/Array_right.png\" style=\"width:350px;height:50px;\" >  \n",
    "- We got new array with elements `6,8,9`, perform the same steps.\n",
    "- Select the middle element, `i = 8`\n",
    "<img src=\"./Images/bineary_search/Array_highlighted_2.png\" style=\"width:350px;height:50px;\" >  \n",
    "- Compare `i` with `n`; `6 < 8` take elements left to the `i`\n",
    "<img src=\"./Images/bineary_search/Array_left_2.png\" style=\"width:350px;height:50px;\" >  \n",
    "- New array consists only one element\n",
    "<img src=\"./Images/bineary_search/Array_highlighted_3.png\" style=\"width:350px;height:50px;\" >  \n",
    "- Compace `i with k; 6 = 6`, Hence return the index\n",
    "<img src=\"./Images/bineary_search/Array_found.png\" style=\"width:350px;height:50px;\" >  \n",
    "\n",
    "### Algorithm\n",
    "\n",
    "$$\n",
    "BinearySearch(Array, K, Start, End): \\,\\,\\,\\,\\,\\,\\,\\,\\,\\,\\,\\,\\,\\,\\,\\,\\,\\,\\,\\,\\,\\,\\,\\,\\,\\,\\,\\,\\,\\,\\,\\,\\,\\,\\\\ \n",
    "if\\; (Start+1) > End:\\,\\,\\,\\,\\,\\,\\,\\,\\,\\,\\,\\,\\,\\,\\,\\,\\,\\,\\,\\,\\,\\,\\,\\,\\,\\,\\,\\,\\,\\,\\,\\,\\,\\,\\,\\,\\,\\,\\,\\,\\,\\,\\,\\,\\,\\,\\,\\,\\,\\,\\,\\\\\n",
    "\\; return\\, \\text{\"Not found\"}\\,\\,\\,\\,\\,\\,\\,\\,\\,\\,\\,\\,\\,\\,\\,\\,\\,\\,\\,\\,\\,\\,\\,\\,\\,\\,\\,\\,\\,\\,\\,\\,\\,\\,\\,\\,\\,\\,\\,\\,\\,\\,\\,\\,\\,\\,\\,\\,\\,\\,\\,\\,\\,\\\\\n",
    "\\,\\,\\,\\,Mid \\leftarrow \\left \\lfloor Start + \\frac{End-Start}{2} \\right \\rfloor\\,\\,\\,\\,\\,\\,\\,\\,\\,\\,\\,\\,\\,\\,\\,\\,\\,\\,\\,\\,\\,\\,\\,\\,\\,\\,\\,\\,\\,\\,\\,\\,\\,\\,\\,\\,\\\\\n",
    "\\,\\,\\,\\,\\text{if}\\; Array[Mid] = K:\\,\\,\\,\\,\\,\\,\\,\\,\\,\\,\\,\\,\\,\\,\\,\\,\\,\\,\\,\\,\\,\\,\\,\\,\\,\\,\\,\\,\\,\\,\\,\\,\\,\\,\\,\\,\\,\\,\\,\\,\\,\\,\\,\\,\\,\\,\\,\\,\\,\\,\\,\\,\\,\\,\\,\\,\\,\\,\\\\\n",
    "\\,\\,\\,\\,\\,\\,\\,\\,return \\,\\,Mid\\,\\,\\,\\,\\,\\,\\,\\,\\,\\,\\,\\,\\,\\,\\,\\,\\,\\,\\,\\,\\,\\,\\,\\,\\,\\,\\,\\,\\,\\,\\,\\,\\,\\,\\,\\,\\,\\,\\,\\,\\,\\,\\,\\,\\,\\,\\,\\,\\,\\,\\,\\,\\,\\,\\,\\,\\,\\,\\,\\,\\,\\,\\,\\,\\,\\,\\,\\,\\,\\,\\,\\,\\\\\n",
    "\\,\\,\\,\\,else\\,\\, if\\,\\, K < Array[Mid]:\\,\\,\\,\\,\\,\\,\\,\\,\\,\\,\\,\\,\\,\\,\\,\\,\\,\\,\\,\\,\\,\\,\\,\\,\\,\\,\\,\\,\\,\\,\\,\\,\\,\\,\\,\\,\\,\\,\\,\\,\\,\\,\\,\\,\\,\\,\\,\\\\\n",
    "\\,\\,\\,\\,\\,\\,\\,\\,\\,\\,\\,\\,\\,\\,\\, return \\,\\,BinearSearch(Array,K,Start,Mid-1)\\\\\n",
    "\\,\\,\\,\\,else :\\,\\,\\,\\,\\,\\,\\,\\,\\,\\,\\,\\,\\,\\,\\,\\,\\,\\,\\,\\,\\,\\,\\,\\,\\,\\,\\,\\,\\,\\,\\,\\,\\,\\,\\,\\,\\,\\,\\,\\,\\,\\,\\,\\,\\,\\,\\,\\,\\,\\,\\,\\,\\,\\,\\,\\,\\,\\,\\,\\,\\,\\,\\,\\,\\,\\,\\,\\,\\,\\,\\,\\,\\,\\,\\,\\,\\,\\,\\,\\,\\,\\,\\,\\,\\,\\,\\,\\,\\,\\,\\,\\,\\,\\,\\\\\n",
    "\\,\\,\\,\\,\\,\\,\\,\\,\\,\\,\\,\\, return\\,\\, BinearSearch(Array,K,Mid+1,End)\n",
    "$$"
   ]
  },
  {
   "cell_type": "code",
   "execution_count": 7,
   "metadata": {},
   "outputs": [],
   "source": [
    "def bineary_search(array,k,start,end):\n",
    "    if start>=end:                                #If True, start is greater or equal to end. Which mean no elements left\n",
    "        return f\"{n} is not found\"  \n",
    "    \n",
    "    mid = start+(end - start)//2                  #Index of middle element\n",
    "    i = array[mid]                                \n",
    "    \n",
    "    if i==k:                                      #Break the condition when the element is found\n",
    "        return f\"Found {k} at index {mid}\"\n",
    "    \n",
    "    elif k < i:\n",
    "        return bineary_search(array,k,start,mid)  #Perform bineary_search for left of the array\n",
    "    \n",
    "    else:                                         #k > i\n",
    "        return bineary_search(array,k,mid+1,end)  #Perform binear_search for right of the array"
   ]
  },
  {
   "cell_type": "code",
   "execution_count": 516,
   "metadata": {},
   "outputs": [],
   "source": [
    "def binary_search(keys, query,s=0):\n",
    "    print(keys,query,s)\n",
    "    start = 0\n",
    "    end = len(keys)\n",
    "    \n",
    "    if len(keys)<1:\n",
    "        return -1\n",
    "    if end-start==1:\n",
    "        return s+start if keys[start]==query else -1\n",
    "    array = keys\n",
    "    k = query\n",
    "    mid = start+(end - start)//2             \n",
    "    i = array[mid]                                \n",
    "    \n",
    "    if i==k:\n",
    "        mid1 = binary_search(array[:mid],k,0)\n",
    "        print(mid1)\n",
    "        if mid1!=-1:\n",
    "            mid = mid1\n",
    "            print(mid1,\"mid1\")\n",
    "        return s+mid\n",
    "    \n",
    "    elif k < i:\n",
    "        return binary_search(array[start:mid],k,s)  \n",
    "    \n",
    "    else:                                         \n",
    "        return binary_search(array[mid+1:],k,s+mid+1)\n"
   ]
  },
  {
   "cell_type": "code",
   "execution_count": 517,
   "metadata": {},
   "outputs": [
    {
     "name": "stdout",
     "output_type": "stream",
     "text": [
      "[2, 4, 4, 4, 7, 7, 9] 9 0\n",
      "[7, 7, 9] 9 4\n",
      "[9] 9 6\n"
     ]
    },
    {
     "data": {
      "text/plain": [
       "6"
      ]
     },
     "execution_count": 517,
     "metadata": {},
     "output_type": "execute_result"
    }
   ],
   "source": [
    "keys = [2,4,4,4,7,7,9]\n",
    "binary_search(keys,9)"
   ]
  },
  {
   "cell_type": "code",
   "execution_count": 8,
   "metadata": {},
   "outputs": [],
   "source": [
    "a = [1,2,2,3,4,6,8,9]\n",
    "k = 6"
   ]
  },
  {
   "cell_type": "code",
   "execution_count": 9,
   "metadata": {},
   "outputs": [
    {
     "data": {
      "text/plain": [
       "'Found 6 at index 5'"
      ]
     },
     "execution_count": 9,
     "metadata": {},
     "output_type": "execute_result"
    }
   ],
   "source": [
    "bineary_search(a,6,0,len(a))"
   ]
  },
  {
   "cell_type": "markdown",
   "metadata": {},
   "source": [
    "# Linear Search\n",
    "Linear Search is a basic algorithm which searches linearly in an array. It search for an element by iterating through each element. Starts from initial position of array, return index if element is found, else moves to the next element, continues the search until the element is found. "
   ]
  },
  {
   "cell_type": "code",
   "execution_count": 10,
   "metadata": {},
   "outputs": [],
   "source": [
    "def linear_search(array,k):\n",
    "    for i in range(len(a)):\n",
    "        if a[i]==k:\n",
    "            return f\"Found {k} at index {i}\""
   ]
  },
  {
   "cell_type": "code",
   "execution_count": 11,
   "metadata": {},
   "outputs": [
    {
     "data": {
      "text/plain": [
       "'Found 6 at index 5'"
      ]
     },
     "execution_count": 11,
     "metadata": {},
     "output_type": "execute_result"
    }
   ],
   "source": [
    "linear_search(a,k)"
   ]
  },
  {
   "cell_type": "markdown",
   "metadata": {},
   "source": [
    "## Runtime\n",
    "\n",
    "Bineary search very less runtime compared to linear search. Worst case time complexity of bineary search is given as $O(logn) $  and worst case time complexity of linear search is $O(n)$  \n",
    "\n",
    "For each step in bineary search we dividing our work by half. Let's say at `level 1` we have $n$ amount of work, at `level 2` we have $\\frac{n}{2}$ amount of work, at `level 3` we have $\\frac{n}{4}$ amount of work. So for every iteration we half our work.  \n",
    "\n",
    "$$i\\;\\;\\;\\;\\;\\;\\;\\; c  \\newline\n",
    "0\\;\\;\\;\\;\\;\\;\\;\\;n  \\newline\n",
    "1\\;\\;\\;\\;\\;\\;\\;\\frac{n}{2} \\newline\n",
    "2\\;\\;\\;\\;\\;\\;\\;\\frac{n}{4} \\newline\n",
    "3\\;\\;\\;\\;\\;\\;\\;\\frac{n}{8} \\newline\n",
    "\\vdots\\;\\;\\;\\;\\;\\;\\;\\;\\vdots      \\newline\n",
    "i\\;\\;\\;\\;\\;\\;\\frac{n}{2^{i}}\\newline\n",
    "\\vdots\\;\\;\\;\\;\\;\\;\\;\\;\\vdots      \\newline\n",
    "\\log_{2}\\textrm{n}\\;\\;1 \\newline\n",
    "\\because \\text{  } 2^{log_{2}\\textrm{n}} = n^{log_{2}\\textrm{2}} = n \\\\\n",
    "\\textrm{end of the iterations} \\newline\n",
    "$$\n",
    "\n",
    "In worst case we perform $log_{2}{n}$ iterations, assume algorithm performs constant work of `c` for each iteration. Suming up all we obtain\n",
    "$\\sum_{i=0}^{log_{2}{n}} c \\approx  O(log\\,n)$\n",
    "\n",
    "$log\\,n$ grows very slowly as we increase $n$  \n",
    "Hence binary search is a very faster algorithm, while searching in a big array compared to linear search algorithm  \n",
    "Below is the time comparission of both algorithms"
   ]
  },
  {
   "cell_type": "code",
   "execution_count": 12,
   "metadata": {},
   "outputs": [
    {
     "name": "stdout",
     "output_type": "stream",
     "text": [
      "Size of the array is 10000000000\n",
      "Element to find 387420489\n"
     ]
    }
   ],
   "source": [
    "a = range(10**10)\n",
    "print(f\"Size of the array is {len(a)}\")\n",
    "k = 9**9\n",
    "print(f\"Element to find {k}\")"
   ]
  },
  {
   "cell_type": "code",
   "execution_count": 13,
   "metadata": {},
   "outputs": [
    {
     "name": "stdout",
     "output_type": "stream",
     "text": [
      "CPU times: user 39 µs, sys: 6 µs, total: 45 µs\n",
      "Wall time: 48.9 µs\n"
     ]
    },
    {
     "data": {
      "text/plain": [
       "'Found 387420489 at index 387420489'"
      ]
     },
     "execution_count": 13,
     "metadata": {},
     "output_type": "execute_result"
    }
   ],
   "source": [
    "%%time\n",
    "bineary_search(a,k,0,len(a))"
   ]
  },
  {
   "cell_type": "code",
   "execution_count": 14,
   "metadata": {},
   "outputs": [
    {
     "name": "stdout",
     "output_type": "stream",
     "text": [
      "CPU times: user 50.8 s, sys: 0 ns, total: 50.8 s\n",
      "Wall time: 50.8 s\n"
     ]
    },
    {
     "data": {
      "text/plain": [
       "'Found 387420489 at index 387420489'"
      ]
     },
     "execution_count": 14,
     "metadata": {},
     "output_type": "execute_result"
    }
   ],
   "source": [
    "%%time\n",
    "linear_search(a,k)"
   ]
  },
  {
   "cell_type": "markdown",
   "metadata": {},
   "source": [
    "Bineary Search found the element very faster compared to linear search"
   ]
  },
  {
   "cell_type": "code",
   "execution_count": 145,
   "metadata": {},
   "outputs": [
    {
     "data": {
      "image/png": "[encoded data removed]",
      "text/plain": [
       "<Figure size 432x288 with 1 Axes>"
      ]
     },
     "metadata": {
      "needs_background": "light"
     },
     "output_type": "display_data"
    }
   ],
   "source": [
    "import matplotlib.pyplot as plt\n",
    "import math\n",
    "\n",
    "a = list(range(1,100))\n",
    "b = list(map(lambda n:math.log(n),a))\n",
    "\n",
    "plt.plot(a,a,label=\"n\")\n",
    "plt.plot(a,b,label=\"$log$n\")\n",
    "plt.xlabel(\"Input Size\")\n",
    "plt.ylabel(\"Approx. Runtime\")\n",
    "plt.legend()\n",
    "plt.show()"
   ]
  },
  {
   "cell_type": "markdown",
   "metadata": {},
   "source": [
    "## Selection Sort"
   ]
  },
  {
   "cell_type": "code",
   "execution_count": 94,
   "metadata": {},
   "outputs": [],
   "source": [
    "def selection_sort(array):\n",
    "    \n",
    "    for i in range(len(array)):\n",
    "        min_ind = i\n",
    "        for j in range(i+1,len(array)):\n",
    "            if array[j] < array[min_ind]:\n",
    "                min_ind = j\n",
    "        array[i],array[min_ind] = array[min_ind],array[i]\n",
    "        \n",
    "    return array"
   ]
  },
  {
   "cell_type": "code",
   "execution_count": 95,
   "metadata": {},
   "outputs": [
    {
     "data": {
      "text/plain": [
       "[1, 2, 3, 4, 5, 6, 8, 9]"
      ]
     },
     "execution_count": 95,
     "metadata": {},
     "output_type": "execute_result"
    }
   ],
   "source": [
    "a = [4,3,5,1,9,6,2,8]\n",
    "selection_sort(a)"
   ]
  },
  {
   "cell_type": "markdown",
   "metadata": {},
   "source": [
    "## Merge Sort"
   ]
  },
  {
   "cell_type": "code",
   "execution_count": 12,
   "metadata": {},
   "outputs": [],
   "source": [
    "def merge_sort(array):\n",
    "    size = len(array)\n",
    "    if size==1:\n",
    "        return array\n",
    "    mid = len(array)//2\n",
    "    a1 = merge_sort(array[:mid])\n",
    "    a2 = merge_sort(array[mid:])\n",
    "    \n",
    "    res = []\n",
    "    i,j,k = [0]*3\n",
    "    \n",
    "    while i<len(a1) and j<len(a2):\n",
    "        if a1[i] <= a2[j]:\n",
    "            res.append(a1[i])\n",
    "            i+=1\n",
    "        else:\n",
    "            res.append(a2[j])\n",
    "            j+=1\n",
    "            \n",
    "    while i < len(a1) or j<len(a2):\n",
    "        if i<len(a1):\n",
    "            res.append(a1[i])\n",
    "            i+=1\n",
    "        else:\n",
    "            res.append(a2[j])\n",
    "            j+=1\n",
    "    return res\n",
    "    "
   ]
  },
  {
   "cell_type": "code",
   "execution_count": 138,
   "metadata": {},
   "outputs": [
    {
     "data": {
      "text/plain": [
       "[1, 1, 3, 4, 6, 6]"
      ]
     },
     "execution_count": 138,
     "metadata": {},
     "output_type": "execute_result"
    }
   ],
   "source": [
    "merge_sort([3,4,1,6,6,1])"
   ]
  },
  {
   "cell_type": "markdown",
   "metadata": {},
   "source": [
    "## Quick Sort"
   ]
  },
  {
   "cell_type": "code",
   "execution_count": 6,
   "metadata": {},
   "outputs": [],
   "source": [
    "def quick_sort(array,start,end):\n",
    "    while start < end:\n",
    "        x = array[start]\n",
    "        j = start\n",
    "        for i in range(j+1,end):\n",
    "            if array[i] <= x:\n",
    "                j+=1\n",
    "                array[i],array[j] = array[j],array[i]\n",
    "        array[start],array[j] = array[j],array[start]\n",
    "        if (j - start) < (end - j):\n",
    "            quick_sort(array,start,j)\n",
    "            start = j+1\n",
    "        else:\n",
    "            quick_sort(array,j+1,end)\n",
    "            end = j\n",
    "    return array"
   ]
  },
  {
   "cell_type": "code",
   "execution_count": 278,
   "metadata": {},
   "outputs": [],
   "source": [
    "from random import randint\n",
    "\n",
    "\n",
    "def partition3(array, left, right):\n",
    "\n",
    "    x = array[left]\n",
    "    m1,m2 = [left]*2\n",
    "\n",
    "    for i in range(m1+1,right):\n",
    "        if array[i] == x:\n",
    "            m2+=1\n",
    "            array[i],array[m2] = array[m2],array[i]\n",
    "        elif array[i] < x:\n",
    "            m1+=1\n",
    "            m2+=1\n",
    "            if m1<m2 and m2!=i:\n",
    "                array[m1],array[m2] = array[m2],array[m1]\n",
    "                #print(m1,m2)\n",
    "            array[i],array[m1] = array[m1],array[i]\n",
    "    array[left],array[m1] = array[m1],array[left]\n",
    "    return m1,m2\n",
    "\n",
    "\n",
    "\n",
    "def randomized_quick_sort(array, left, right):\n",
    "    if left >= right:\n",
    "        return\n",
    "    k = randint(left, right-1)\n",
    "    array[left], array[k] = array[k], array[left]\n",
    "    m1, m2 = partition3(array, left, right)\n",
    "    #print(array,m1,m2,k)\n",
    "    randomized_quick_sort(array, left, m1)\n",
    "    randomized_quick_sort(array, m2 + 1, right)\n"
   ]
  },
  {
   "cell_type": "code",
   "execution_count": 303,
   "metadata": {},
   "outputs": [
    {
     "name": "stdout",
     "output_type": "stream",
     "text": [
      "1 2 3 4 5 6 7 8 9 10\n"
     ]
    }
   ],
   "source": [
    "a = [10,9,8,7,6,5,4,3,2,1]\n",
    "randomized_quick_sort(a,0,len(a))\n",
    "print(*a)"
   ]
  },
  {
   "cell_type": "code",
   "execution_count": 10,
   "metadata": {},
   "outputs": [
    {
     "name": "stdout",
     "output_type": "stream",
     "text": [
      "CPU times: user 33.3 ms, sys: 45 µs, total: 33.3 ms\n",
      "Wall time: 43.8 ms\n"
     ]
    },
    {
     "data": {
      "text/plain": [
       "[0, 1, 2, 3, 4, 5, 6, 7, 8, 9]"
      ]
     },
     "execution_count": 10,
     "metadata": {},
     "output_type": "execute_result"
    }
   ],
   "source": [
    "%%time\n",
    "a = list(range(10**3))\n",
    "quick_sort(a,0,len(a))[:10]\n",
    "#print(array)"
   ]
  },
  {
   "cell_type": "code",
   "execution_count": 152,
   "metadata": {},
   "outputs": [
    {
     "name": "stdout",
     "output_type": "stream",
     "text": [
      "CPU times: user 5.05 s, sys: 4.41 ms, total: 5.05 s\n",
      "Wall time: 5.11 s\n"
     ]
    },
    {
     "data": {
      "text/plain": [
       "[1, 2, 3, 4, 5, 6, 7, 8, 9, 10]"
      ]
     },
     "execution_count": 152,
     "metadata": {},
     "output_type": "execute_result"
    }
   ],
   "source": [
    "%%time\n",
    "a = list(range(10**4,0,-1))\n",
    "selection_sort(a)[:10]"
   ]
  },
  {
   "cell_type": "code",
   "execution_count": 20,
   "metadata": {},
   "outputs": [
    {
     "name": "stdout",
     "output_type": "stream",
     "text": [
      "CPU times: user 46.6 ms, sys: 0 ns, total: 46.6 ms\n",
      "Wall time: 53.3 ms\n"
     ]
    },
    {
     "data": {
      "text/plain": [
       "[1, 2, 3, 4, 5, 6, 7, 8, 9, 10]"
      ]
     },
     "execution_count": 20,
     "metadata": {},
     "output_type": "execute_result"
    }
   ],
   "source": [
    "%%time\n",
    "a = list(range(10**4,0,-1))\n",
    "merge_sort(a)[:10]"
   ]
  },
  {
   "cell_type": "code",
   "execution_count": 158,
   "metadata": {},
   "outputs": [
    {
     "name": "stdout",
     "output_type": "stream",
     "text": [
      "CPU times: user 734 µs, sys: 26 µs, total: 760 µs\n",
      "Wall time: 778 µs\n"
     ]
    },
    {
     "data": {
      "text/plain": [
       "[1, 2, 3, 4, 5, 6, 7, 8, 9, 10]"
      ]
     },
     "execution_count": 158,
     "metadata": {},
     "output_type": "execute_result"
    }
   ],
   "source": [
    "%%time\n",
    "a = list(range(10**4,0,-1))\n",
    "sorted(a)[:10]"
   ]
  },
  {
   "cell_type": "code",
   "execution_count": 141,
   "metadata": {},
   "outputs": [],
   "source": [
    "a = list(range(1,100))\n",
    "b = list(map(lambda n:math.log(n),a))\n",
    "c = list(map(lambda n:n**2,a))"
   ]
  },
  {
   "cell_type": "code",
   "execution_count": 144,
   "metadata": {},
   "outputs": [
    {
     "data": {
      "image/png": "[encoded data removed]",
      "text/plain": [
       "<Figure size 432x288 with 1 Axes>"
      ]
     },
     "metadata": {
      "needs_background": "light"
     },
     "output_type": "display_data"
    }
   ],
   "source": [
    "plt.plot(a,b,label=\"n$log$n\")\n",
    "plt.plot(a,c,label=\"$n^2$\")\n",
    "plt.legend()\n",
    "plt.show()"
   ]
  },
  {
   "cell_type": "code",
   "execution_count": 365,
   "metadata": {},
   "outputs": [],
   "source": [
    "\n",
    "def points_cover_naive(starts, ends, points):\n",
    "    assert len(starts) == len(ends)\n",
    "    count = [0] * len(points)\n",
    "\n",
    "    for index, point in enumerate(points):\n",
    "        for start, end in zip(starts, ends):\n",
    "            if start <= point <= end:\n",
    "                count[index] += 1\n",
    "\n",
    "    return count"
   ]
  },
  {
   "cell_type": "code",
   "execution_count": null,
   "metadata": {},
   "outputs": [],
   "source": [
    "def points_cover(starts, ends, points):\n",
    "    assert len(starts) == len(ends)\n",
    "    c = [0] * len(points)\n",
    "    mid = len(points)//2\n",
    "    points_cover(start,ends,points[:mid])\n",
    "    points_cover(start,ends,points[mid+1:])\n",
    "    return c"
   ]
  },
  {
   "cell_type": "code",
   "execution_count": null,
   "metadata": {},
   "outputs": [],
   "source": [
    "starts = [0,7]\n",
    "ends = [5,10]\n",
    "points = [1,6,11]"
   ]
  },
  {
   "cell_type": "code",
   "execution_count": 1,
   "metadata": {},
   "outputs": [],
   "source": [
    "from itertools import combinations\n",
    "\n",
    "\n",
    "def inversions_naive(a):\n",
    "    number_of_inversions = 0\n",
    "    for i, j in combinations(range(len(a)), 2):\n",
    "        if a[i] > a[j]:\n",
    "            number_of_inversions += 1\n",
    "    return number_of_inversions"
   ]
  },
  {
   "cell_type": "code",
   "execution_count": 28,
   "metadata": {},
   "outputs": [
    {
     "name": "stdout",
     "output_type": "stream",
     "text": [
      "[(0, 1), (0, 2), (0, 3), (1, 2), (1, 3), (2, 3)]\n"
     ]
    },
    {
     "data": {
      "text/plain": [
       "4"
      ]
     },
     "execution_count": 28,
     "metadata": {},
     "output_type": "execute_result"
    }
   ],
   "source": [
    "a = [5,7,3,4]\n",
    "#a = list(combinations(a,2))\n",
    "#print(a)\n",
    "print(list(combinations(range(len(a)),2)))\n",
    "inversions_naive(a)"
   ]
  },
  {
   "cell_type": "code",
   "execution_count": 29,
   "metadata": {},
   "outputs": [],
   "source": [
    "def majority_element_naive(elements):\n",
    "    for e in elements:\n",
    "        if elements.count(e) > len(elements) / 2:\n",
    "            return 1\n",
    "\n",
    "    return 0"
   ]
  },
  {
   "cell_type": "markdown",
   "metadata": {},
   "source": [
    "a = [2,3,2,4,2,4,2,2]\n",
    "count(2) = 5 > 8/2"
   ]
  },
  {
   "cell_type": "code",
   "execution_count": 40,
   "metadata": {},
   "outputs": [
    {
     "name": "stdout",
     "output_type": "stream",
     "text": [
      "4\n",
      "2 2 2 4\n",
      "1\n"
     ]
    }
   ],
   "source": [
    "class Solution:\n",
    "    def hasMajorityElement( self, A: List[int], N: int ) -> bool:\n",
    "        me = 0\n",
    "        cnt = 0\n",
    "        for x in A:\n",
    "            if cnt == 0:\n",
    "                me = x\n",
    "            cnt = cnt + 1 if me == x else cnt - 1\n",
    "        cnt = 0\n",
    "        T = ( N // 2 ) + 1\n",
    "        for x in A:\n",
    "            cnt = cnt + 1 if me == x else cnt\n",
    "        return T <= cnt\n",
    "\n",
    "if __name__ == '__main__':\n",
    "    solution = Solution()\n",
    "    N = int( input() )\n",
    "    A = list( map( int, input().split() ))\n",
    "    ans = solution.hasMajorityElement( A, N )\n",
    "\n",
    "    print( \"1\" if ans else \"0\" )"
   ]
  },
  {
   "cell_type": "code",
   "execution_count": 17,
   "metadata": {},
   "outputs": [],
   "source": [
    "class Inv:\n",
    "    def inversions( self, A):\n",
    "        A, cnt = self.go( A, 0, len(A) )\n",
    "        return cnt\n",
    "    def go( self, A, L, R):\n",
    "        size = ( R - L )\n",
    "        if size < 2:\n",
    "            return A[L:R], 0\n",
    "        mid = L + ( size // 2 )\n",
    "        A1, cnt1 = self.go( A, L, mid )\n",
    "        A2, cnt2 = self.go( A, mid, R )\n",
    "        A3, cnt3 = self.merge( A1, A2 )\n",
    "        return A3, cnt1 + cnt2 + cnt3\n",
    "    def merge( self, A, B):\n",
    "        C = []\n",
    "        i = 0\n",
    "        j = 0\n",
    "        cnt = 0\n",
    "        while i < len(A) and j < len(B):\n",
    "            if A[i] <= B[j]:\n",
    "                C.append( A[i] )\n",
    "                i += 1\n",
    "            else:\n",
    "                C.append( B[j] )\n",
    "                j += 1\n",
    "                cnt += len( A[i:] )\n",
    "        C.extend( A[i:] )\n",
    "        C.extend( B[j:] )\n",
    "        return C, cnt"
   ]
  },
  {
   "cell_type": "code",
   "execution_count": 21,
   "metadata": {},
   "outputs": [
    {
     "data": {
      "text/plain": [
       "2"
      ]
     },
     "execution_count": 21,
     "metadata": {},
     "output_type": "execute_result"
    }
   ],
   "source": [
    "inv = Inv()\n",
    "inv.inversions([2,3,9,2,9])"
   ]
  },
  {
   "cell_type": "code",
   "execution_count": 15,
   "metadata": {},
   "outputs": [],
   "source": [
    "def majority_element_naive(elements):\n",
    "    \n",
    "    me = 0\n",
    "    cnt = 0\n",
    "    for x in elements:\n",
    "        if cnt == 0:\n",
    "            me = x\n",
    "        cnt = cnt + 1 if me == x else cnt - 1\n",
    "    print(me,cnt)\n",
    "    cnt = 0\n",
    "    T = ( len(elements) // 2 ) + 1\n",
    "    for x in elements:\n",
    "        cnt = cnt + 1 if me == x else cnt\n",
    "    if T <= cnt:\n",
    "        return 1\n",
    "    return 0"
   ]
  },
  {
   "cell_type": "code",
   "execution_count": 22,
   "metadata": {},
   "outputs": [
    {
     "name": "stdout",
     "output_type": "stream",
     "text": [
      "2 1\n"
     ]
    },
    {
     "data": {
      "text/plain": [
       "1"
      ]
     },
     "execution_count": 22,
     "metadata": {},
     "output_type": "execute_result"
    }
   ],
   "source": [
    "majority_element_naive([2,2,3])"
   ]
  },
  {
   "cell_type": "code",
   "execution_count": 28,
   "metadata": {},
   "outputs": [
    {
     "name": "stdout",
     "output_type": "stream",
     "text": [
      "14 7\n",
      "42 7\n",
      "42 35\n",
      "14 35\n",
      "784 112\n"
     ]
    }
   ],
   "source": [
    "import math\n",
    "\n",
    "def Area(x, y):\n",
    "    ar = 0\n",
    "    x1,x2 = x[:2]\n",
    "    y1,y2 = y[:2]\n",
    "    dist = math.sqrt((x2 - x1)**2 + (y2 - y1)**2)\n",
    "    return int(dist * dist)\n",
    "\n",
    "def Perimeter(x, y):\n",
    "    x1,x2 = x[:2]\n",
    "    y1,y2 = y[:2]\n",
    "    dist = math.sqrt((x2 - x1)**2 + (y2 - y1)**2)\n",
    "    return int(4 * dist)\n",
    "    \n",
    "\n",
    "def main():\n",
    "    X = []\n",
    "    Y = []\n",
    "    for i in range(4):\n",
    "        S = input().split()\n",
    "        X.append(int(S[0]))\n",
    "        Y.append(int(S[1]))\n",
    "    print(Area(X,Y),end=\" \")    \n",
    "    print(Perimeter(X,Y))\n",
    "main()"
   ]
  },
  {
   "cell_type": "code",
   "execution_count": 86,
   "metadata": {},
   "outputs": [],
   "source": [
    "class ListNode:\n",
    "    def __init__(self, val=0, next=None):\n",
    "        self.val = val\n",
    "        self.next = next\n",
    "    def __str__(self):\n",
    "        return \"ListNode : [val : {0}, next : {1}]\".format(self.val,self.next)\n",
    "        \n",
    "class Solution:\n",
    "    def mergeKLists(self, lists):\n",
    "        size = len(lists)\n",
    "        if size < 1:\n",
    "            return None\n",
    "        if size < 2:\n",
    "            return lists[0]\n",
    "        out = None\n",
    "        mid = len(lists)//2\n",
    "        a1 = self.mergeKLists(lists[:mid])\n",
    "        a2 = self.mergeKLists(lists[mid:])\n",
    "        if a1 and a2:\n",
    "            if a1.val < a2.val:\n",
    "                out = ListNode(a1.val)\n",
    "                a1 = a1.next\n",
    "            else:\n",
    "                out = ListNode(a2.val)\n",
    "                a2 = a2.next\n",
    "        elif a1:\n",
    "            out = ListNode(a1.val)\n",
    "            a1 = a1.next\n",
    "        elif a2:\n",
    "            out = ListNode(a2.val)\n",
    "            a2 = a2.next\n",
    "        temp = out\n",
    "        while a1 and a2:\n",
    "            if a1.val < a2.val:\n",
    "                temp.next = ListNode(a1.val)\n",
    "                temp = temp.next\n",
    "                a1 = a1.next\n",
    "            else:\n",
    "                temp.next = ListNode(a2.val)\n",
    "                temp = temp.next\n",
    "                a2 = a2.next\n",
    "        while a1 or a2:\n",
    "            if a1:\n",
    "                temp.next = ListNode(a1.val)\n",
    "                temp = temp.next\n",
    "                a1 = a1.next\n",
    "            else:\n",
    "                temp.next = ListNode(a2.val)\n",
    "                temp = temp.next\n",
    "                a2 = a2.next\n",
    "        return out\n"
   ]
  },
  {
   "cell_type": "code",
   "execution_count": 87,
   "metadata": {},
   "outputs": [
    {
     "name": "stdout",
     "output_type": "stream",
     "text": [
      "ListNode : [val : 1, next : ListNode : [val : 1, next : ListNode : [val : 2, next : ListNode : [val : 3, next : ListNode : [val : 4, next : ListNode : [val : 4, next : ListNode : [val : 5, next : ListNode : [val : 6, next : None]]]]]]]]\n"
     ]
    }
   ],
   "source": [
    "def listnode(l):\n",
    "    if len(l) < 1:\n",
    "        return None\n",
    "    node = ListNode(l[0])\n",
    "    test = node\n",
    "    for i in range(1,len(l)):\n",
    "        test.next = ListNode(l[i])\n",
    "        test = test.next\n",
    "    return node\n",
    "s = Solution()\n",
    "#print(listnode([1,3,4]))\n",
    "print(s.mergeKLists([listnode([1,4,5]),listnode([1,3,4]),listnode([2,6])]))"
   ]
  },
  {
   "cell_type": "code",
   "execution_count": 88,
   "metadata": {},
   "outputs": [
    {
     "name": "stdout",
     "output_type": "stream",
     "text": [
      "None\n"
     ]
    }
   ],
   "source": [
    "print(s.mergeKLists([None,None]))"
   ]
  },
  {
   "cell_type": "code",
   "execution_count": null,
   "metadata": {},
   "outputs": [],
   "source": []
  }
 ],
 "metadata": {
  "kernelspec": {
   "display_name": "Python 3",
   "language": "python",
   "name": "python3"
  },
  "language_info": {
   "codemirror_mode": {
    "name": "ipython",
    "version": 3
   },
   "file_extension": ".py",
   "mimetype": "text/x-python",
   "name": "python",
   "nbconvert_exporter": "python",
   "pygments_lexer": "ipython3",
   "version": "3.8.10"
  }
 },
 "nbformat": 4,
 "nbformat_minor": 4
}
