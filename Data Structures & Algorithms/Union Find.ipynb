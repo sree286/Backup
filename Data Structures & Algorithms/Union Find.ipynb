{
 "cells": [
  {
   "cell_type": "markdown",
   "metadata": {},
   "source": [
    "# Union Find\n",
    "Given an array of ```N``` numbers, We can connect any two numbers ```p,q``` each time, and can make any number of connections until all elements are connected. If ```p``` is connected to ```q``` then all the numbers that are connected to ```p``` are also now connected to ```q```. Write a program to connect given two numbers and check whether the given two numbers are connected or not.\n",
    "\n",
    "<img src=\"./Images/union_find/Array.png\" style=\"width:450px;height:100px;\">\n",
    "\n",
    "Connect `3` to `8`\n",
    "\n",
    "<img src=\"./Images/union_find/connect_8_3.png\" style=\"width:150px;height:150px;\">\n",
    "\n",
    "Connect `9` to `3`\n",
    "\n",
    "<img src=\"./Images/union_find/connect_9_3.png\" style=\"width:150px;height:200px;\">\n",
    "\n",
    "$\\because$ `9` is connected to `3`, it is also connected to `8`.  \n",
    "\n",
    "\n",
    "### Goal\n",
    "Write `3` functions \n",
    "- `root` - To get the base of the number that it is connected to. In the above example root(9) & root(3) is 8 ($\\because$ `9` & `3` are connected to `8`),  root(2) should return `2` ($\\because$ `2` is connected to itself by default).\n",
    "- `union` - To connect two given numbers if not connected yet. union(4,6) should connect 4 to 6.\n",
    "- `is_connected` - To check given two numbers are connected or not. In the above example is_connected(9,8) Should return `True`, is_connected(1,8) should return `False`.\n",
    "\n",
    "**Hint :** Use index values to connect two numbers  \n",
    "\n",
    "\n",
    "\n",
    "**union(4,6)** results to array\n",
    "\n",
    "<img src=\"./Images/union_find/array_connect_4_6.png\" style=\"width:450px;height:100px;\">"
   ]
  },
  {
   "cell_type": "code",
   "execution_count": 17,
   "metadata": {},
   "outputs": [],
   "source": [
    "a = [0,1,2,3,4,5,6,7,8,9]\n",
    "\n",
    "def root(num):\n",
    "    if num==a[num]:\n",
    "        return num\n",
    "    return root(a[num]) \n",
    "\n",
    "def union(p,q):\n",
    "    a[p] = root(q)\n",
    "    \n",
    "def is_connected(p,q):\n",
    "    if root(p)==root(q):\n",
    "        return True\n",
    "    return False"
   ]
  },
  {
   "cell_type": "code",
   "execution_count": 20,
   "metadata": {},
   "outputs": [],
   "source": []
  },
  {
   "cell_type": "code",
   "execution_count": 50,
   "metadata": {},
   "outputs": [],
   "source": [
    "a = [23,43,54,2,45,64,34,55]\n",
    "b = list(range(len(a)))\n",
    "\n",
    "def root(num):\n",
    "    if num==b[num]:\n",
    "        return num\n",
    "    return root(b[num])\n",
    "\n",
    "def union(p,q):\n",
    "    i1,i2 = a.index(p),a.index(q)\n",
    "    p,q = b[i1],b[i2] \n",
    "    b[p] = root(q)\n",
    "    \n",
    "def is_connected(p,q):\n",
    "    i1,i2 = a.index(p),a.index(q)\n",
    "    p,q = b[i1],b[i2]\n",
    "    if root(p)==root(q):\n",
    "        return True\n",
    "    return False"
   ]
  },
  {
   "cell_type": "code",
   "execution_count": 51,
   "metadata": {},
   "outputs": [],
   "source": [
    "union(23,43)"
   ]
  },
  {
   "cell_type": "code",
   "execution_count": 53,
   "metadata": {},
   "outputs": [],
   "source": [
    "union(23,2)"
   ]
  },
  {
   "cell_type": "code",
   "execution_count": 57,
   "metadata": {},
   "outputs": [],
   "source": [
    "union(2,55)"
   ]
  },
  {
   "cell_type": "code",
   "execution_count": 58,
   "metadata": {},
   "outputs": [
    {
     "data": {
      "text/plain": [
       "True"
      ]
     },
     "execution_count": 58,
     "metadata": {},
     "output_type": "execute_result"
    }
   ],
   "source": [
    "is_connected(55,2)"
   ]
  }
 ],
 "metadata": {
  "kernelspec": {
   "display_name": "Python 3",
   "language": "python",
   "name": "python3"
  },
  "language_info": {
   "codemirror_mode": {
    "name": "ipython",
    "version": 3
   },
   "file_extension": ".py",
   "mimetype": "text/x-python",
   "name": "python",
   "nbconvert_exporter": "python",
   "pygments_lexer": "ipython3",
   "version": "3.8.10"
  }
 },
 "nbformat": 4,
 "nbformat_minor": 4
}
