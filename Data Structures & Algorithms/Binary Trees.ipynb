{
 "cells": [
  {
   "cell_type": "markdown",
   "metadata": {},
   "source": [
    "## Binary Trees"
   ]
  },
  {
   "cell_type": "markdown",
   "metadata": {},
   "source": [
    "## InOrder, PreOrder, PostOrder"
   ]
  },
  {
   "cell_type": "code",
   "execution_count": 19,
   "metadata": {},
   "outputs": [
    {
     "name": "stdout",
     "output_type": "stream",
     "text": [
      "50 70 80 30 90 40 0 20 10 60\n",
      "0 70 50 40 30 80 90 20 60 10\n",
      "50 80 90 30 40 70 10 60 20 0\n"
     ]
    }
   ],
   "source": [
    "# python3\n",
    "\n",
    "import sys, threading\n",
    "sys.setrecursionlimit(10**6) # max depth of recursion\n",
    "threading.stack_size(2**27)  # new thread will get stack of such size\n",
    "\n",
    "class TreeOrders:\n",
    "    def read(self):\n",
    "        self.n = 10\n",
    "        self.key = [0 for i in range(self.n)]\n",
    "        self.left = [0 for i in range(self.n)]\n",
    "        self.right = [0 for i in range(self.n)]\n",
    "        inputs = [\n",
    "                    [0,7,2],\n",
    "                    [10, -1, -1],\n",
    "                    [20, -1, 6],\n",
    "                    [30, 8, 9],\n",
    "                    [40, 3, -1],\n",
    "                    [50, -1, -1],\n",
    "                    [60, 1, -1],\n",
    "                    [70, 5, 4],\n",
    "                    [80, -1, -1],\n",
    "                    [90, -1, -1],\n",
    "                ]\n",
    "        for i in range(self.n):\n",
    "            [a, b, c] = inputs[i]\n",
    "            self.key[i] = a\n",
    "            self.left[i] = b\n",
    "            self.right[i] = c\n",
    "\n",
    "    def inOrder(self,node = 0):\n",
    "        self.result = []\n",
    "        # Finish the implementation\n",
    "        # You may need to add a new recursive method to do that\n",
    "        key = []\n",
    "        left = []\n",
    "        right = []\n",
    "        key = [self.key[node]]\n",
    "        if self.left[node]!=-1:\n",
    "            left = self.inOrder(self.left[node])\n",
    "        if self.right[node]!=-1:\n",
    "            right = self.inOrder(self.right[node])\n",
    "        self.result=left+key+right\n",
    "        return self.result\n",
    "\n",
    "    def preOrder(self,node=0):\n",
    "        self.result = []\n",
    "        # Finish the implementation\n",
    "        # You may need to add a new recursive method to do that\n",
    "        key = []\n",
    "        left = []\n",
    "        right = []\n",
    "        key = [self.key[node]]\n",
    "        if self.left[node]!=-1:\n",
    "            left = self.preOrder(self.left[node])\n",
    "        if self.right[node]!=-1:\n",
    "            right = self.preOrder(self.right[node])\n",
    "        self.result=key+left+right\n",
    "        #print(self.result)\n",
    "        return self.result\n",
    "\n",
    "    def postOrder(self,node=0):\n",
    "        self.result = []\n",
    "        # Finish the implementation\n",
    "        # You may need to add a new recursive method to do that\n",
    "        key = []\n",
    "        left = []\n",
    "        right = []\n",
    "        key = [self.key[node]]\n",
    "        if self.left[node]!=-1:\n",
    "            left = self.postOrder(self.left[node])\n",
    "        if self.right[node]!=-1:\n",
    "            right = self.postOrder(self.right[node])\n",
    "        self.result=left+right+key\n",
    "\n",
    "        return self.result\n",
    "\n",
    "def main():\n",
    "    tree = TreeOrders()\n",
    "    tree.read()\n",
    "    print(\" \".join(str(x) for x in tree.inOrder()))\n",
    "    print(\" \".join(str(x) for x in tree.preOrder()))\n",
    "    print(\" \".join(str(x) for x in tree.postOrder()))\n",
    "\n",
    "threading.Thread(target=main).start()\n"
   ]
  },
  {
   "cell_type": "markdown",
   "metadata": {},
   "source": [
    "## Is Binary Tree"
   ]
  },
  {
   "cell_type": "code",
   "execution_count": 76,
   "metadata": {},
   "outputs": [
    {
     "name": "stdout",
     "output_type": "stream",
     "text": [
      "CORRECT\n"
     ]
    }
   ],
   "source": [
    "#!/usr/bin/python3\n",
    "\n",
    "import sys, threading\n",
    "\n",
    "sys.setrecursionlimit(10**7) # max depth of recursion\n",
    "threading.stack_size(2**25)  # new thread will get stack of such size\n",
    "\n",
    "def IsBinarySearchTree(tree,node=0):\n",
    "    # Implement correct algorithm here\n",
    "    if len(tree)<2:\n",
    "        return True\n",
    "    key = tree[node][0]\n",
    "    left_tree = tree[node][1]\n",
    "    right_tree = tree[node][2]\n",
    "    \n",
    "    if left_tree!=-1:\n",
    "        left = IsBinarySearchTree(tree, left_tree)\n",
    "    else:\n",
    "        left = -float('inf')\n",
    "        \n",
    "    if right_tree!=-1:\n",
    "        right = IsBinarySearchTree(tree, right_tree)\n",
    "    else:\n",
    "        right = key\n",
    "        \n",
    "    if left and right:\n",
    "        if left>=key:\n",
    "            return False\n",
    "        if right<key:\n",
    "            return False\n",
    "        return right\n",
    "    else:\n",
    "        return False\n",
    "\n",
    "\n",
    "def main():\n",
    "    nodes = 1\n",
    "    tree = [\n",
    "         [4,1,2],\n",
    "        [2,3,4],\n",
    "        [6,5,6],\n",
    "        [1, -1, -1],\n",
    "        [3, -1, -1],\n",
    "        [5, -1, -1],\n",
    "        [7, -1, -1]\n",
    "        ]\n",
    "    if IsBinarySearchTree(tree):\n",
    "        print(\"CORRECT\")\n",
    "    else:\n",
    "        print(\"INCORRECT\")\n",
    "\n",
    "threading.Thread(target=main).start()\n",
    "\n"
   ]
  },
  {
   "cell_type": "code",
   "execution_count": null,
   "metadata": {},
   "outputs": [],
   "source": []
  }
 ],
 "metadata": {
  "kernelspec": {
   "display_name": "Python 3",
   "language": "python",
   "name": "python3"
  },
  "language_info": {
   "codemirror_mode": {
    "name": "ipython",
    "version": 3
   },
   "file_extension": ".py",
   "mimetype": "text/x-python",
   "name": "python",
   "nbconvert_exporter": "python",
   "pygments_lexer": "ipython3",
   "version": "3.8.10"
  }
 },
 "nbformat": 4,
 "nbformat_minor": 4
}
