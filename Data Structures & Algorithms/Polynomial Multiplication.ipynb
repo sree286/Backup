{
 "cells": [
  {
   "cell_type": "markdown",
   "metadata": {},
   "source": [
    "## Polynomial Multiplication\n",
    "\n",
    "$a(x) = 3x^2+2x+5$  \n",
    "$b(x) = 5x^2+x+2$  \n",
    "$c(x) = a(x)*b(x) = 15x^4+13x^3+33x^2+9x+10$\n"
   ]
  },
  {
   "cell_type": "code",
   "execution_count": 1,
   "metadata": {},
   "outputs": [],
   "source": [
    "def multipoly(a,b,n):\n",
    "    c = [0 for i in range(2*n-1)]\n",
    "    \n",
    "    for i in range(0,n):\n",
    "        for j in range(0,n):\n",
    "            c[i+j] += a[i] * b[j]\n",
    "            \n",
    "    return c"
   ]
  },
  {
   "cell_type": "code",
   "execution_count": 2,
   "metadata": {},
   "outputs": [
    {
     "data": {
      "text/plain": [
       "[3, 8, 14, 8, 3]"
      ]
     },
     "execution_count": 2,
     "metadata": {},
     "output_type": "execute_result"
    }
   ],
   "source": [
    "multipoly((3,2,1),(1,2,3),3)"
   ]
  },
  {
   "cell_type": "code",
   "execution_count": 3,
   "metadata": {},
   "outputs": [],
   "source": [
    "import math\n",
    "def mult2(a,b,n,a1,b1):\n",
    "    start = 0\n",
    "    if len(a)%2!=0 and len(a)>1:\n",
    "        a.insert(0,0)\n",
    "        n+=1\n",
    "        start = 2\n",
    "    if len(b)%2!=0 and len(a)>1:\n",
    "        b.insert(0,0)\n",
    "        \n",
    "    c = [0 for i in range(int(2*n-1))]\n",
    "    half = math.floor(n/2)\n",
    "    if n==1:\n",
    "        c[0] = a[a1] * b[b1]\n",
    "        return c\n",
    "    c[0:n-1] = mult2(a,b,n//2,a1,b1)\n",
    "    c[n:2*n-1] = mult2(a,b,half,a1+(half),b1+(half))\n",
    "    d0e1 = mult2(a,b,half,a1,b1+half)\n",
    "    d1e0 = mult2(a,b,half,a1+half,b1)\n",
    "    pos = half\n",
    "    for i in range(len(d0e1)):\n",
    "        d0e1[i] += d1e0[i]\n",
    "        c[pos] += d0e1[i]\n",
    "        pos+=1\n",
    "    return c[start:]"
   ]
  },
  {
   "cell_type": "code",
   "execution_count": 4,
   "metadata": {},
   "outputs": [
    {
     "data": {
      "text/plain": [
       "[3, 8, 14, 8, 3]"
      ]
     },
     "execution_count": 4,
     "metadata": {},
     "output_type": "execute_result"
    }
   ],
   "source": [
    "a = [3,2,1]\n",
    "b = [1,2,3]\n",
    "mult2(a,b,len(a),0,0)"
   ]
  },
  {
   "cell_type": "code",
   "execution_count": 5,
   "metadata": {},
   "outputs": [],
   "source": [
    "def mult3(a,b,n,a1,b1):\n",
    "    start = 0\n",
    "    if len(a)%2!=0 and len(a)>1:\n",
    "        a.insert(0,0)\n",
    "        n+=1\n",
    "        start = 2\n",
    "    if len(b)%2!=0 and len(a)>1:\n",
    "        b.insert(0,0)\n",
    "        \n",
    "    c = [0 for i in range(int(2*n-1))]\n",
    "    half = math.floor(n/2)\n",
    "    if n==1:\n",
    "        c[0] = a[a1] * b[b1]\n",
    "        return c\n",
    "    d1e1 = mult3(a,b,n//2,a1,b1)\n",
    "    c[0:n-1] = d1e1\n",
    "    d0e0 = mult3(a,b,half,a1+(half),b1+(half))\n",
    "    c[n:2*n-1] = d0e0\n",
    "    d1d0 = []\n",
    "    e1e0 = []\n",
    "    for i in range(half):\n",
    "        d1d0.append(a[i]+a[half+i])\n",
    "        e1e0.append(b[i]+b[half+i])\n",
    "        \n",
    "    d1e1_d0e0 = mult3(d1d0,e1e0,half,0,0)\n",
    "    \n",
    "    pos = half\n",
    "    for i in range(len(d1e1_d0e0)):\n",
    "        print(pos,len(c),d1d0,e1e0)\n",
    "        c[pos] += d1e1_d0e0[i] - d1e1[i] - d0e0[i]\n",
    "        pos+=1\n",
    "    return c[start:]"
   ]
  },
  {
   "cell_type": "code",
   "execution_count": 6,
   "metadata": {},
   "outputs": [
    {
     "name": "stdout",
     "output_type": "stream",
     "text": [
      "[1, 2, 3] [3, 2, 1]\n",
      "1 3 [1] [3]\n",
      "1 3 [1] [3]\n",
      "1 3 [6] [6]\n",
      "2 7 [2, 4] [2, 4]\n",
      "3 7 [2, 4] [2, 4]\n",
      "4 7 [2, 4] [2, 4]\n"
     ]
    },
    {
     "data": {
      "text/plain": [
       "[3, 20, 14, -4, 3]"
      ]
     },
     "execution_count": 6,
     "metadata": {},
     "output_type": "execute_result"
    }
   ],
   "source": [
    "a = list(range(1,4))\n",
    "b = list(range(3,0,-1))\n",
    "#a = [4,3,2,1]\n",
    "#b = [1,2,3,4]\n",
    "print(a,b)\n",
    "mult3(a,b,len(a),0,0)"
   ]
  },
  {
   "cell_type": "code",
   "execution_count": null,
   "metadata": {},
   "outputs": [],
   "source": []
  }
 ],
 "metadata": {
  "kernelspec": {
   "display_name": "Python 3",
   "language": "python",
   "name": "python3"
  },
  "language_info": {
   "codemirror_mode": {
    "name": "ipython",
    "version": 3
   },
   "file_extension": ".py",
   "mimetype": "text/x-python",
   "name": "python",
   "nbconvert_exporter": "python",
   "pygments_lexer": "ipython3",
   "version": "3.8.10"
  }
 },
 "nbformat": 4,
 "nbformat_minor": 4
}
