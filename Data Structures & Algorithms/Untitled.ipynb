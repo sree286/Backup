{
 "cells": [
  {
   "cell_type": "code",
   "execution_count": 7,
   "metadata": {},
   "outputs": [],
   "source": [
    "def lucky(a1,a2,a3):\n",
    "    a12 = a1 + a2\n",
    "    a23 = a2 + a3\n",
    "    a13 = a1 + a3\n",
    "    for i in a12,a23,a13:\n",
    "        if i%2 == 0 and i>0:\n",
    "            return \"YES\"\n",
    "    return \"NO\""
   ]
  }
 ],
 "metadata": {
  "kernelspec": {
   "display_name": "Python 3",
   "language": "python",
   "name": "python3"
  },
  "language_info": {
   "codemirror_mode": {
    "name": "ipython",
    "version": 3
   },
   "file_extension": ".py",
   "mimetype": "text/x-python",
   "name": "python",
   "nbconvert_exporter": "python",
   "pygments_lexer": "ipython3",
   "version": "3.8.10"
  }
 },
 "nbformat": 4,
 "nbformat_minor": 4
}
