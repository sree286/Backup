{
 "cells": [
  {
   "cell_type": "markdown",
   "metadata": {},
   "source": [
    "# Maximum Subarray Problem\n",
    "Given an array with integers. Find the indexes of two numbers whose difference is maximum "
   ]
  },
  {
   "cell_type": "code",
   "execution_count": 2,
   "metadata": {},
   "outputs": [],
   "source": [
    "arr = [100,113,110,85,105,102,86,63,81,101,94,106,101,79,94,90,97]"
   ]
  },
  {
   "cell_type": "code",
   "execution_count": 3,
   "metadata": {},
   "outputs": [
    {
     "name": "stdout",
     "output_type": "stream",
     "text": [
      "[0, 13, -3, -25, 20, -3, -16, -23, 18, 20, -7, 12, -5, -22, 15, -4, 7]\n"
     ]
    }
   ],
   "source": [
    "diff_arr = [0]\n",
    "\n",
    "for i in range(0,len(arr)-1):\n",
    "    diff_arr.append(arr[i+1]-arr[i])\n",
    "print(diff_arr)"
   ]
  },
  {
   "cell_type": "code",
   "execution_count": 43,
   "metadata": {},
   "outputs": [
    {
     "name": "stdout",
     "output_type": "stream",
     "text": [
      "7 11 43\n",
      "CPU times: user 1.75 ms, sys: 112 µs, total: 1.86 ms\n",
      "Wall time: 2.22 ms\n"
     ]
    }
   ],
   "source": [
    "%%time\n",
    "max_diff = 0\n",
    "start = 0\n",
    "end = 0\n",
    "for i in range(len(arr)):\n",
    "    a = arr[i]\n",
    "    for j in range(i,len(arr)):\n",
    "        diff = arr[j] - a\n",
    "        if diff > max_diff:\n",
    "            max_diff = diff\n",
    "            start = i\n",
    "            end = j\n",
    "print(start,end,max_diff)"
   ]
  },
  {
   "cell_type": "code",
   "execution_count": 5,
   "metadata": {},
   "outputs": [
    {
     "name": "stdout",
     "output_type": "stream",
     "text": [
      "Max sum found 43, indexes: [(8, 11)] \n"
     ]
    }
   ],
   "source": [
    "max_tot = 0\n",
    "start = 0\n",
    "end = 0\n",
    "\n",
    "for i in range(len(diff_arr)):\n",
    "    a = diff_arr[i]\n",
    "    tot = a\n",
    "    for j in range(i+1,len(diff_arr)):\n",
    "        tot += diff_arr[j]\n",
    "        if tot > max_tot:\n",
    "            max_tot = tot\n",
    "            start = i\n",
    "            end = j\n",
    "    \n",
    "print(f'Max sum found {max_tot}, indexes: [{start,end}] ')"
   ]
  },
  {
   "cell_type": "code",
   "execution_count": 73,
   "metadata": {},
   "outputs": [
    {
     "name": "stdout",
     "output_type": "stream",
     "text": [
      "CPU times: user 57 µs, sys: 4 µs, total: 61 µs\n",
      "Wall time: 65.8 µs\n"
     ]
    },
    {
     "data": {
      "text/plain": [
       "(8, 11, 43)"
      ]
     },
     "execution_count": 73,
     "metadata": {},
     "output_type": "execute_result"
    }
   ],
   "source": [
    "%%time\n",
    "def crossing_subarray(arr,low,mid,high):\n",
    "    left_sum = -float('inf')\n",
    "    left_tot = 0\n",
    "    max_left = mid\n",
    "    for i in range(mid,low-1,-1):\n",
    "        left_tot += arr[i]\n",
    "        if left_tot > left_sum:\n",
    "            left_sum = left_tot\n",
    "            max_left = i\n",
    "            \n",
    "    right_sum = -float('inf')\n",
    "    right_tot = 0\n",
    "    max_right = mid+1\n",
    "    for j in range(mid+1,high):\n",
    "        right_tot += arr[j]\n",
    "        if right_tot > right_sum:\n",
    "            right_sum=right_tot\n",
    "            max_right = j\n",
    "            \n",
    "    return max_left,max_right,left_sum + right_sum\n",
    "            \n",
    "        \n",
    "crossing_subarray(diff_arr,0,len(diff_arr)//2,len(diff_arr))"
   ]
  },
  {
   "cell_type": "code",
   "execution_count": 74,
   "metadata": {},
   "outputs": [],
   "source": [
    "def find_maximum_subarray(A,low, high):\n",
    "    if high - low <= 1: \n",
    "        return (low, high, A[low])\n",
    "    mid = (low+high)//2\n",
    "    left_low,left_high, left_sum = find_maximum_subarray(A,low,mid)\n",
    "    right_low,right_high, right_sum = find_maximum_subarray(A,mid+1,high)\n",
    "    cross_low,cross_high,cross_sum = crossing_subarray(A,low,mid,high)\n",
    "    \n",
    "    if left_sum >= right_sum and left_sum >= cross_sum:\n",
    "        return left_low,left_high,left_sum\n",
    "    elif right_sum>=left_sum and right_sum>=cross_sum:\n",
    "        return right_low,right_high,right_sum\n",
    "    else:\n",
    "        return cross_low,cross_high,cross_sum"
   ]
  },
  {
   "cell_type": "code",
   "execution_count": 61,
   "metadata": {},
   "outputs": [
    {
     "name": "stdout",
     "output_type": "stream",
     "text": [
      "CPU times: user 77 µs, sys: 6 µs, total: 83 µs\n",
      "Wall time: 87 µs\n"
     ]
    },
    {
     "data": {
      "text/plain": [
       "(8, 11, 43)"
      ]
     },
     "execution_count": 61,
     "metadata": {},
     "output_type": "execute_result"
    }
   ],
   "source": [
    "%%time\n",
    "find_maximum_subarray(diff_arr,0,len(diff_arr))"
   ]
  },
  {
   "cell_type": "code",
   "execution_count": 77,
   "metadata": {},
   "outputs": [],
   "source": [
    "def max_subarray(A):\n",
    "    total_sum = -float('inf')\n",
    "    total = 0\n",
    "    start = end = s = 0\n",
    "    for i in range(len(A)):\n",
    "        total += A[i]\n",
    "        if total > total_sum:\n",
    "            total_sum = total\n",
    "            start = s\n",
    "            end = i\n",
    "        if total < 0:\n",
    "            total = 0\n",
    "            s = i+1\n",
    "    return total_sum, start, end"
   ]
  },
  {
   "cell_type": "code",
   "execution_count": 78,
   "metadata": {},
   "outputs": [
    {
     "data": {
      "text/plain": [
       "(43, 8, 11)"
      ]
     },
     "execution_count": 78,
     "metadata": {},
     "output_type": "execute_result"
    }
   ],
   "source": [
    "max_subarray(diff_arr)"
   ]
  },
  {
   "cell_type": "code",
   "execution_count": null,
   "metadata": {},
   "outputs": [],
   "source": []
  }
 ],
 "metadata": {
  "kernelspec": {
   "display_name": "Python 3",
   "language": "python",
   "name": "python3"
  },
  "language_info": {
   "codemirror_mode": {
    "name": "ipython",
    "version": 3
   },
   "file_extension": ".py",
   "mimetype": "text/x-python",
   "name": "python",
   "nbconvert_exporter": "python",
   "pygments_lexer": "ipython3",
   "version": "3.8.10"
  }
 },
 "nbformat": 4,
 "nbformat_minor": 4
}
