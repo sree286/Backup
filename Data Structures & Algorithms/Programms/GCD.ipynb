{
 "cells": [
  {
   "cell_type": "markdown",
   "metadata": {},
   "source": [
    "# GCD\n",
    "\n",
    "Given two numbers 'a' & 'b' the goal is to find the greatest number that divides both 'a' and 'b'"
   ]
  },
  {
   "cell_type": "code",
   "execution_count": 30,
   "metadata": {},
   "outputs": [],
   "source": [
    "#Naive method\n",
    "def gcd(a,b):\n",
    "    i = 1\n",
    "    res = i\n",
    "    while i<=a and i<=b:\n",
    "        if a%i==0 and b%i==0:\n",
    "            res = i\n",
    "        i+=1\n",
    "    return res\n"
   ]
  },
  {
   "cell_type": "markdown",
   "metadata": {},
   "source": [
    "Above is an inefficient method to find the gcd of the given two numbers, the efficient method we use is euclidians method\n",
    "## Euclidians Method\n",
    "\n",
    "lets take two numbers a,b which are 24,30 respectively\n",
    "Assign a = b and b = a%b until b = 0 then return a which is gcd of two numbers\n",
    "for 24,30  \n",
    "step 1 : a = 26, b = 30  \n",
    "step 2 : a = 30, b = 26%30 = 26  \n",
    "step 3 : a = 26, b = 30%26 = 4  \n",
    "step 4 : a = 4, b = 26%4 = 2  \n",
    "step 5 : a = 2, b = 4%2 = 0\n",
    "\n",
    "Now it returns 2 which is the gcd of two numbers.\n",
    "\n",
    "Okay whats happening in the algorithm\n",
    "The algorithm is an example of recursive algorithm, \n",
    "when we divide greater number by smaller number, then the multiplying the resulted quotient with smaller number and adding remainder to it equals to bigger number.  \n",
    "```a = b*q + r```  \n",
    "```where, q = b/a ; r = b%a```  \n",
    "In above equation if a number divides ```a``` then it divides both ```b``` and ```r``` hence it divides ```a``` and ```b```. So we iterate to find a number that divides both ```b``` and ```r```, when ```r = 0``` then we found the number which divides both ```b``` and ```r``` and so ```a``` and ```b```."
   ]
  },
  {
   "cell_type": "code",
   "execution_count": 49,
   "metadata": {},
   "outputs": [],
   "source": [
    "#Euclidians method\n",
    "def gcd(a,b):\n",
    "    if b==0:\n",
    "        return a\n",
    "    return gcd(b,a%b)"
   ]
  },
  {
   "cell_type": "code",
   "execution_count": 51,
   "metadata": {},
   "outputs": [
    {
     "name": "stdout",
     "output_type": "stream",
     "text": [
      "CPU times: user 8 µs, sys: 0 ns, total: 8 µs\n",
      "Wall time: 12.4 µs\n"
     ]
    },
    {
     "data": {
      "text/plain": [
       "61232"
      ]
     },
     "execution_count": 51,
     "metadata": {},
     "output_type": "execute_result"
    }
   ],
   "source": [
    "%%time\n",
    "gcd(3918848,1653264)"
   ]
  },
  {
   "cell_type": "code",
   "execution_count": 47,
   "metadata": {},
   "outputs": [],
   "source": [
    "from math import gcd"
   ]
  }
 ],
 "metadata": {
  "kernelspec": {
   "display_name": "Python 3",
   "language": "python",
   "name": "python3"
  },
  "language_info": {
   "codemirror_mode": {
    "name": "ipython",
    "version": 3
   },
   "file_extension": ".py",
   "mimetype": "text/x-python",
   "name": "python",
   "nbconvert_exporter": "python",
   "pygments_lexer": "ipython3",
   "version": "3.8.10"
  }
 },
 "nbformat": 4,
 "nbformat_minor": 4
}
