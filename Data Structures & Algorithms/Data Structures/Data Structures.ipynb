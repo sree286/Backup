{
 "cells": [
  {
   "cell_type": "markdown",
   "metadata": {},
   "source": [
    "# Match brackets"
   ]
  },
  {
   "cell_type": "code",
   "execution_count": 145,
   "metadata": {},
   "outputs": [],
   "source": [
    "def find_mismatch(text):\n",
    "    opening_brackets_stack = []\n",
    "    aux = []\n",
    "    last = 0\n",
    "    for i, next in enumerate(text):\n",
    "        if next in \"([{\":\n",
    "            opening_brackets_stack.append(next)\n",
    "            aux.append(i+1)\n",
    "        elif next in \")]}\":\n",
    "            if not opening_brackets_stack:\n",
    "                return i+1\n",
    "            top = opening_brackets_stack.pop()\n",
    "            aux.pop()\n",
    "            if top == \"(\" and next!=\")\":\n",
    "                return i+1\n",
    "            elif top == \"{\" and next!=\"}\":\n",
    "                return i+1\n",
    "            elif top == \"[\" and next!=\"]\":\n",
    "                return i+1\n",
    "    if not opening_brackets_stack:\n",
    "        return \"Success\"\n",
    "    return aux[0]"
   ]
  },
  {
   "cell_type": "code",
   "execution_count": 146,
   "metadata": {},
   "outputs": [],
   "source": [
    "def main(text):\n",
    "    #text = input()\n",
    "    #text = \"fo\"\n",
    "    mismatch = find_mismatch(text)\n",
    "    #print(mismatch)\n",
    "    return mismatch"
   ]
  },
  {
   "cell_type": "code",
   "execution_count": 147,
   "metadata": {},
   "outputs": [
    {
     "name": "stdout",
     "output_type": "stream",
     "text": [
      "3 3\n",
      "5 5\n",
      "5 5\n",
      "1 1\n",
      "Success Success\n",
      "Success Success\n",
      "Success Success\n",
      "1 1\n",
      "3 3\n",
      "Success Success\n",
      "10 10\n"
     ]
    }
   ],
   "source": [
    "test_cases = {\"[]{{}\":\"3\",\n",
    "              \"[{}]{\":\"5\",\n",
    "              '({})}':\"5\",\n",
    "              \"}\":\"1\",\n",
    "              \"[()]\":\"Success\",\n",
    "              \"(())\":\"Success\",\n",
    "              \"{[]}()\":\"Success\",\n",
    "              \"{\":\"1\",\n",
    "              \"{[}\":\"3\",\n",
    "              \"foo(bar);\":\"Success\",\n",
    "              \"foo(bar[i)\":\"10\",\n",
    "             }\n",
    "\n",
    "for case in test_cases:\n",
    "    print(main(case),test_cases[case])"
   ]
  },
  {
   "cell_type": "markdown",
   "metadata": {},
   "source": [
    "# Depth of the tree"
   ]
  },
  {
   "cell_type": "code",
   "execution_count": 127,
   "metadata": {},
   "outputs": [],
   "source": [
    "def compute_height(n, parents):\n",
    "    # Replace this code with a faster implementation\n",
    "    nodes = [None]*n\n",
    "    for vertex in range(n):\n",
    "        nodes[vertex] = []\n",
    "        \n",
    "    for child in range(n):\n",
    "        parent = parents[child]\n",
    "        if parent==-1:\n",
    "            root = child\n",
    "        else:\n",
    "            nodes[parent].append(child)\n",
    "    \n",
    "    def depth(layer,height):\n",
    "        if not layer:\n",
    "            return height\n",
    "        return max([depth(nodes[i],height+1) for i in layer])\n",
    "        \n",
    "    return depth(nodes[root],1)"
   ]
  },
  {
   "cell_type": "code",
   "execution_count": 128,
   "metadata": {},
   "outputs": [],
   "source": [
    "def main(parents):\n",
    "    #n = int(input())\n",
    "    parents = list(map(int, parents.split()))\n",
    "    n = len(parents)\n",
    "    return compute_height(n, parents)"
   ]
  },
  {
   "cell_type": "code",
   "execution_count": 129,
   "metadata": {},
   "outputs": [
    {
     "name": "stdout",
     "output_type": "stream",
     "text": [
      "4 4\n",
      "3 3\n",
      "4 4\n",
      "1 1\n"
     ]
    }
   ],
   "source": [
    "test_cases = {\"9 7 5 5 2 9 9 9 2 -1\":\"4\",\n",
    "              \"4 -1 4 1 1\":\"3\",\n",
    "              \"-1 0 4 0 3\":\"4\",\n",
    "              \"-1\":\"1\"\n",
    "              \n",
    "             }\n",
    "\n",
    "for case in test_cases:\n",
    "    print(main(case),test_cases[case])"
   ]
  },
  {
   "cell_type": "code",
   "execution_count": null,
   "metadata": {},
   "outputs": [],
   "source": []
  },
  {
   "cell_type": "markdown",
   "metadata": {},
   "source": [
    "# Max In Stack"
   ]
  },
  {
   "cell_type": "code",
   "execution_count": 3,
   "metadata": {},
   "outputs": [
    {
     "name": "stdout",
     "output_type": "stream",
     "text": [
      "[]\n",
      "0\n",
      "[0]\n",
      "1\n",
      "[0, 1]\n",
      "1\n",
      "[0, 1, 1]\n",
      "1\n",
      "[0, 1, 1, 1]\n",
      "1\n",
      "[0, 1, 1, 1, 0]\n",
      "1\n",
      "[0, 1, 1, 1, 0, 0]\n",
      "1\n",
      "[0, 1, 1, 1, 0, 0, 0]\n",
      "1\n",
      "[0, 1, 1, 1, 0, 0, 0, 0]\n",
      "1\n",
      "[0, 1, 1, 1, 0, 0, 0, 0, 0]\n",
      "1\n",
      "1\n",
      "1\n",
      "1\n",
      "1\n",
      "1\n",
      "1\n",
      "1\n",
      "1\n",
      "0\n"
     ]
    }
   ],
   "source": [
    "#python3\n",
    "import sys\n",
    "\n",
    "class StackWithMax():\n",
    "    def __init__(self):\n",
    "        self.__stack = []\n",
    "        self.__maxstack = []\n",
    "        self.__max = -float(\"inf\")\n",
    "    def Push(self, a):\n",
    "        print(self.__stack)\n",
    "        self.__stack.append(a)\n",
    "        if a>=self.__max:\n",
    "            self.__max = a\n",
    "            self.__maxstack.append(a)\n",
    "    def Pop(self):\n",
    "        assert(len(self.__stack))\n",
    "        top = self.__stack.pop()\n",
    "        if top==self.__max:\n",
    "            self.__maxstack.pop()\n",
    "            self.__max = self.__maxstack[-1]\n",
    "\n",
    "    def Max(self):\n",
    "        assert(len(self.__stack))\n",
    "        return self.__max\n",
    "\n",
    "\n",
    "if __name__ == '__main__':\n",
    "    stack = StackWithMax()\n",
    "\n",
    "    #num_queries = int(sys.stdin.readline())\n",
    "    queries = tex.split(\"\\n\")[:-1]\n",
    "    for q in queries:\n",
    "        query = q.split()\n",
    "\n",
    "        if query[0] == \"push\":\n",
    "            stack.Push(int(query[1]))\n",
    "        elif query[0] == \"pop\":\n",
    "            stack.Pop()\n",
    "        elif query[0] == \"max\":\n",
    "            print(stack.Max())\n",
    "        else:\n",
    "            assert(0)\n",
    "            \n"
   ]
  },
  {
   "cell_type": "code",
   "execution_count": 94,
   "metadata": {},
   "outputs": [],
   "source": [
    "stack = StackWithMax()"
   ]
  },
  {
   "cell_type": "code",
   "execution_count": 2,
   "metadata": {},
   "outputs": [],
   "source": [
    "tex = \"\"\"push 0\n",
    "max\n",
    "push 1\n",
    "max\n",
    "push 1\n",
    "max\n",
    "push 1\n",
    "max\n",
    "push 0\n",
    "max\n",
    "push 0\n",
    "max\n",
    "push 0\n",
    "max\n",
    "push 0\n",
    "max\n",
    "push 0\n",
    "max\n",
    "push 0\n",
    "max\n",
    "pop\n",
    "max\n",
    "pop\n",
    "max\n",
    "pop\n",
    "max\n",
    "pop\n",
    "max\n",
    "pop\n",
    "max\n",
    "pop\n",
    "max\n",
    "pop\n",
    "max\n",
    "pop\n",
    "max\n",
    "pop\n",
    "max\n",
    "\"\"\""
   ]
  },
  {
   "cell_type": "code",
   "execution_count": 91,
   "metadata": {},
   "outputs": [
    {
     "name": "stdout",
     "output_type": "stream",
     "text": [
      "['push 0', 'max', 'push 1', 'max', 'push 1', 'max', 'push 1', 'max', 'push 0', 'max', 'push 0', 'max', 'push 0', 'max', 'push 0', 'max', 'push 0', 'max', 'push 0', 'max', 'pop', 'max', 'pop', 'max', 'pop', 'max', 'pop', 'max', 'pop', 'max', 'pop', 'max', 'pop', 'max', 'pop', 'max', 'pop', 'max', '']\n"
     ]
    }
   ],
   "source": [
    "print(tex.split(\"\\n\"))"
   ]
  }
 ],
 "metadata": {
  "kernelspec": {
   "display_name": "Python 3",
   "language": "python",
   "name": "python3"
  },
  "language_info": {
   "codemirror_mode": {
    "name": "ipython",
    "version": 3
   },
   "file_extension": ".py",
   "mimetype": "text/x-python",
   "name": "python",
   "nbconvert_exporter": "python",
   "pygments_lexer": "ipython3",
   "version": "3.8.10"
  }
 },
 "nbformat": 4,
 "nbformat_minor": 4
}
