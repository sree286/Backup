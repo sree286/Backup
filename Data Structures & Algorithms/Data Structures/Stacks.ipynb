{
 "cells": [
  {
   "cell_type": "markdown",
   "metadata": {},
   "source": [
    "# Stack\n",
    "\n",
    "Stack is a linear data structure that follows the principle of ```last in first out (LIFO)```. This means the last item inserted inside the stack is removed first.\n",
    "\n",
    "### Basic operations on stack :\n",
    "In order to make manipulations in stack, there are certain operations provided to us.\n",
    "\n",
    "1. <b>Push : </b>To insert or add an element into the stack\n",
    "2. <b>Pop : </b>To remove an element from the top of the stack\n",
    "3. <b>Peek (or) Top : </b>Returns the top element of the stack\n",
    "4. <b>IsEmpty : </b>Returns true if stack is empty else returns false\n",
    "5. <b>Size : </b>Returns the size of the stack"
   ]
  },
  {
   "cell_type": "code",
   "execution_count": 5,
   "metadata": {},
   "outputs": [],
   "source": [
    "class Stack:\n",
    "    def __init__(self):\n",
    "        self.stack = []\n",
    "        self.top = -1\n",
    "        \n",
    "    def push(self,item):\n",
    "        self.stack.append(item)\n",
    "        self.top += 1\n",
    "        print(item,\"Pushed to stack\")\n",
    "        \n",
    "    def pop(self):\n",
    "        if self.isempty():\n",
    "            print(\"Stack is empty\")\n",
    "        else:\n",
    "            self.top -= 1\n",
    "            print(self.stack.pop(),\"Poped from the stack\")\n",
    "            \n",
    "    def isempty(self):\n",
    "        return len(self.stack)==0\n",
    "    \n",
    "    def peek(self):\n",
    "        if self.isempty():\n",
    "            return \"Stack is empty\"\n",
    "        return self.stack[-1]\n",
    "    \n",
    "    def size(self):\n",
    "        if self.isempty():\n",
    "            return \"Stack is empty\"\n",
    "        return len(self.stack)\n",
    "    "
   ]
  }
 ],
 "metadata": {
  "kernelspec": {
   "display_name": "Python 3",
   "language": "python",
   "name": "python3"
  },
  "language_info": {
   "codemirror_mode": {
    "name": "ipython",
    "version": 3
   },
   "file_extension": ".py",
   "mimetype": "text/x-python",
   "name": "python",
   "nbconvert_exporter": "python",
   "pygments_lexer": "ipython3",
   "version": "3.8.10"
  }
 },
 "nbformat": 4,
 "nbformat_minor": 4
}
