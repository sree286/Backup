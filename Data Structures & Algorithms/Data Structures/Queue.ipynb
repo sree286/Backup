{
 "cells": [
  {
   "cell_type": "markdown",
   "metadata": {},
   "source": [
    "# Queue\n",
    "\n",
    "A queue is a linear data structure that is open at both ends and the operations are performed in First In First Out (FIFO) order.\n",
    "\n",
    "#### Basic Operations of a queue\n",
    "1. Enqueue : \n",
    "2. Dequeue : \n",
    "3. IsEmpty :\n",
    "4. Peek/Front :"
   ]
  },
  {
   "cell_type": "code",
   "execution_count": 1,
   "metadata": {},
   "outputs": [],
   "source": [
    "class Queue:\n",
    "    def __init__(self):\n",
    "        self.queue = []\n",
    "        \n",
    "    def enqueue(self,item):\n",
    "        self.queue.append(item)\n",
    "        print(item,\"Added to queue\")\n",
    "        \n",
    "    def dequeue(self):\n",
    "        if self.isempty():\n",
    "            print(\"Queue is empty\")\n",
    "        else:\n",
    "            print(self.queue.pop(0),\"Popped from the queue\")\n",
    "            \n",
    "    def isempty(self):\n",
    "        return len(self.queue)==0"
   ]
  }
 ],
 "metadata": {
  "kernelspec": {
   "display_name": "Python 3",
   "language": "python",
   "name": "python3"
  },
  "language_info": {
   "codemirror_mode": {
    "name": "ipython",
    "version": 3
   },
   "file_extension": ".py",
   "mimetype": "text/x-python",
   "name": "python",
   "nbconvert_exporter": "python",
   "pygments_lexer": "ipython3",
   "version": "3.8.10"
  }
 },
 "nbformat": 4,
 "nbformat_minor": 4
}
