{
 "cells": [
  {
   "cell_type": "markdown",
   "metadata": {},
   "source": [
    "# Insertion Sort\n",
    "\n",
    "It is similiar to bubble sort, instead of sending big elements to end, it brings small elements to start\n",
    "Starting from first index in each iteration check with predecessor and moves until it find bigger element"
   ]
  },
  {
   "cell_type": "code",
   "execution_count": 17,
   "metadata": {},
   "outputs": [],
   "source": [
    "# insertion sort increasing order\n",
    "\n",
    "def insertion_sort(array):\n",
    "    size = len(array)\n",
    "    for i in range(1,size):\n",
    "        key = array[i]\n",
    "        j = i-1\n",
    "        while key < array[j] and j>=0:\n",
    "            array[j+1] = array[j]\n",
    "            j-=1\n",
    "        array[j+1] = key\n",
    "    return array\n",
    "        "
   ]
  },
  {
   "cell_type": "code",
   "execution_count": 18,
   "metadata": {},
   "outputs": [],
   "source": [
    "a = [4,2,6,3,9,5,1,8,7]"
   ]
  },
  {
   "cell_type": "code",
   "execution_count": 21,
   "metadata": {},
   "outputs": [
    {
     "data": {
      "text/plain": [
       "[9, 8, 7, 6, 5, 4, 3, 2, 1]"
      ]
     },
     "execution_count": 21,
     "metadata": {},
     "output_type": "execute_result"
    }
   ],
   "source": [
    "reverse_insertion_sort(a)"
   ]
  },
  {
   "cell_type": "code",
   "execution_count": 20,
   "metadata": {},
   "outputs": [],
   "source": [
    "def reverse_insertion_sort(array):\n",
    "    \n",
    "    size = len(array)\n",
    "    for i in range(1,size):\n",
    "        key = array[i]\n",
    "        j = i-1\n",
    "        \n",
    "        while key>array[j] and j>=0:\n",
    "            array[j+1] = array[j]\n",
    "            j-=1\n",
    "            \n",
    "        array[j+1] = key\n",
    "        \n",
    "    return array\n",
    "        "
   ]
  }
 ],
 "metadata": {
  "kernelspec": {
   "display_name": "Python 3",
   "language": "python",
   "name": "python3"
  },
  "language_info": {
   "codemirror_mode": {
    "name": "ipython",
    "version": 3
   },
   "file_extension": ".py",
   "mimetype": "text/x-python",
   "name": "python",
   "nbconvert_exporter": "python",
   "pygments_lexer": "ipython3",
   "version": "3.8.10"
  }
 },
 "nbformat": 4,
 "nbformat_minor": 4
}
