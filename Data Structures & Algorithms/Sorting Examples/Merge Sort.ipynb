{
 "cells": [
  {
   "cell_type": "markdown",
   "metadata": {},
   "source": [
    "# Merge Sort"
   ]
  },
  {
   "cell_type": "code",
   "execution_count": 1,
   "metadata": {},
   "outputs": [],
   "source": [
    "array = [4,2,3,7,6,1,9,5,8]"
   ]
  },
  {
   "cell_type": "code",
   "execution_count": 17,
   "metadata": {},
   "outputs": [],
   "source": [
    "def sort(array):\n",
    "    n = len(array)\n",
    "    n_2 = int(n/2)\n",
    "    a_n = n_2\n",
    "    b_n = n-n_2\n",
    "    a = array[:n_2]\n",
    "    b = array[n_2:]\n",
    "    if n>2:\n",
    "        a = sort(a)\n",
    "        b = sort(b)\n",
    "        \n",
    "    i = j = k = 0\n",
    "    c = []\n",
    "    \n",
    "    while i<a_n and j<(b_n):\n",
    "        if a[i] < b[j]:\n",
    "            c.append(a[i])\n",
    "            i+=1\n",
    "        else:\n",
    "            c.append(b[j])\n",
    "            j+=1\n",
    "            \n",
    "    while k < b_n:\n",
    "        if i < a_n:\n",
    "            c.append(a[i])\n",
    "            i+=1\n",
    "        elif j < b_n:\n",
    "            c.append(b[j])\n",
    "            j+=1\n",
    "        else:\n",
    "            break\n",
    "        k+=1\n",
    "    return c"
   ]
  },
  {
   "cell_type": "code",
   "execution_count": null,
   "metadata": {},
   "outputs": [],
   "source": [
    "sort([6,3,1,8,5,4,9,2,7,0])"
   ]
  },
  {
   "cell_type": "code",
   "execution_count": 14,
   "metadata": {},
   "outputs": [
    {
     "ename": "IndexError",
     "evalue": "list index out of range",
     "output_type": "error",
     "traceback": [
      "\u001b[0;31m---------------------------------------------------------------------------\u001b[0m",
      "\u001b[0;31mIndexError\u001b[0m                                Traceback (most recent call last)",
      "\u001b[0;32m<ipython-input-14-52c7b74b8e70>\u001b[0m in \u001b[0;36m<module>\u001b[0;34m\u001b[0m\n\u001b[1;32m      1\u001b[0m \u001b[0ma\u001b[0m \u001b[0;34m=\u001b[0m \u001b[0;34m[\u001b[0m\u001b[0;34m]\u001b[0m\u001b[0;34m\u001b[0m\u001b[0;34m\u001b[0m\u001b[0m\n\u001b[0;32m----> 2\u001b[0;31m \u001b[0ma\u001b[0m\u001b[0;34m[\u001b[0m\u001b[0;36m0\u001b[0m\u001b[0;34m]\u001b[0m\u001b[0;34m\u001b[0m\u001b[0;34m\u001b[0m\u001b[0m\n\u001b[0m",
      "\u001b[0;31mIndexError\u001b[0m: list index out of range"
     ]
    }
   ],
   "source": []
  }
 ],
 "metadata": {
  "kernelspec": {
   "display_name": "Python 3",
   "language": "python",
   "name": "python3"
  },
  "language_info": {
   "codemirror_mode": {
    "name": "ipython",
    "version": 3
   },
   "file_extension": ".py",
   "mimetype": "text/x-python",
   "name": "python",
   "nbconvert_exporter": "python",
   "pygments_lexer": "ipython3",
   "version": "3.8.10"
  }
 },
 "nbformat": 4,
 "nbformat_minor": 4
}
