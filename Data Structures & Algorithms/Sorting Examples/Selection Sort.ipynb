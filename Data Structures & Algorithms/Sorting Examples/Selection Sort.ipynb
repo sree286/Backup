{
 "cells": [
  {
   "cell_type": "markdown",
   "metadata": {},
   "source": [
    "# Selection Sort\n",
    "\n",
    "The principle of selection sort is to start from index 0 and search for the smallest element starting from current index, after finding the smallest value swap the positions of smallest value and the value at current index. Repeat the process for all index values."
   ]
  },
  {
   "cell_type": "code",
   "execution_count": 65,
   "metadata": {},
   "outputs": [],
   "source": [
    "#selection sort\n",
    "\n",
    "def selection_sort(array):\n",
    "    size = len(array)\n",
    "    ind = 0\n",
    "    for i in range(size):\n",
    "        ind = i\n",
    "        for j in range(i+1,size):            \n",
    "            if array[j]<array[ind]:\n",
    "                ind = j\n",
    "        \n",
    "        temp = array[i]\n",
    "        array[i] = array[ind]\n",
    "        array[ind] = temp\n",
    "        \n",
    "    return array"
   ]
  },
  {
   "cell_type": "code",
   "execution_count": 66,
   "metadata": {},
   "outputs": [],
   "source": [
    "a = [4,2,6,3,9,5,1,8,7]"
   ]
  }
 ],
 "metadata": {
  "kernelspec": {
   "display_name": "Python 3",
   "language": "python",
   "name": "python3"
  },
  "language_info": {
   "codemirror_mode": {
    "name": "ipython",
    "version": 3
   },
   "file_extension": ".py",
   "mimetype": "text/x-python",
   "name": "python",
   "nbconvert_exporter": "python",
   "pygments_lexer": "ipython3",
   "version": "3.8.10"
  }
 },
 "nbformat": 4,
 "nbformat_minor": 4
}
