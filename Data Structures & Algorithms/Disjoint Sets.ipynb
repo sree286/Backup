{
 "cells": [
  {
   "cell_type": "code",
   "execution_count": 3,
   "metadata": {},
   "outputs": [
    {
     "name": "stdout",
     "output_type": "stream",
     "text": [
      "2\n",
      "2\n",
      "3\n",
      "5\n",
      "5\n"
     ]
    }
   ],
   "source": [
    "# python3\n",
    "\n",
    "\n",
    "class Database:\n",
    "    def __init__(self, row_counts):\n",
    "        self.row_counts = row_counts\n",
    "        self.max_row_count = max(row_counts)\n",
    "        n_tables = len(row_counts)\n",
    "        self.ranks = [1] * n_tables\n",
    "        self.parents = list(range(n_tables))\n",
    "\n",
    "    def merge(self, src, dst):\n",
    "        src_parent = self.get_parent(src)\n",
    "        dst_parent = self.get_parent(dst)\n",
    "            \n",
    "        if src_parent == dst_parent:\n",
    "            return False\n",
    "\n",
    "        # merge two components\n",
    "        \n",
    "        src_rank = self.ranks[src_parent]\n",
    "        dst_rank = self.ranks[dst_parent]\n",
    "        \n",
    "        if src_rank < dst_rank:\n",
    "            src_parent, dst_parent = dst_parent, src_parent\n",
    "            \n",
    "        elif src_rank==dst_rank:\n",
    "            self.ranks[src_parent] = self.ranks[src_parent]+1\n",
    "            \n",
    "            \n",
    "        self.parents[dst_parent] = src_parent\n",
    "        self.row_counts[src_parent] += self.row_counts[dst_parent]\n",
    "        self.row_counts[dst_parent] = 0\n",
    "        \n",
    "        new_count = self.row_counts[src_parent]\n",
    "        if new_count > self.max_row_count:\n",
    "            self.max_row_count = new_count\n",
    "            \n",
    "        return True\n",
    "\n",
    "    def get_parent(self, table):\n",
    "        if (self.parents[table] != table):\n",
    "            self.parents[table] = self.get_parent(self.parents[table])\n",
    "        return self.parents[table]\n",
    "\n",
    "\n",
    "def main():\n",
    "    #n_tables, n_queries = map(int, input().split())\n",
    "    n_tables, n_queries = 5,5\n",
    "    #counts = list(map(int, input().split()))\n",
    "    counts = [1,1,1,1,1]\n",
    "    #assert len(counts) == n_tables\n",
    "    db = Database(counts)\n",
    "    nq = [(3,5), (2,4), (1,4), (5,4),(5,3)]\n",
    "    for i in range(n_queries):\n",
    "        dst, src = nq[i]\n",
    "        db.merge(dst - 1, src - 1)\n",
    "        print(db.max_row_count)\n",
    "\n",
    "\n",
    "if __name__ == \"__main__\":\n",
    "    main()"
   ]
  }
 ],
 "metadata": {
  "kernelspec": {
   "display_name": "Python 3",
   "language": "python",
   "name": "python3"
  },
  "language_info": {
   "codemirror_mode": {
    "name": "ipython",
    "version": 3
   },
   "file_extension": ".py",
   "mimetype": "text/x-python",
   "name": "python",
   "nbconvert_exporter": "python",
   "pygments_lexer": "ipython3",
   "version": "3.8.10"
  }
 },
 "nbformat": 4,
 "nbformat_minor": 4
}
