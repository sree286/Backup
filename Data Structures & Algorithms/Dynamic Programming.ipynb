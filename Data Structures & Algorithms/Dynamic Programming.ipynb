{
 "cells": [
  {
   "cell_type": "markdown",
   "metadata": {},
   "source": [
    "# Fibonacci Numbers\n",
    "1,1,2,3,5,8,13....."
   ]
  },
  {
   "cell_type": "code",
   "execution_count": 16,
   "metadata": {},
   "outputs": [],
   "source": [
    "#naive just reccursion\n",
    "def fib(n):\n",
    "    #print(\"Calculating fib({})\".format(n))\n",
    "    if n <= 1:\n",
    "        return n\n",
    "    return fib(n - 1) + fib(n-2)"
   ]
  },
  {
   "cell_type": "code",
   "execution_count": 20,
   "metadata": {},
   "outputs": [
    {
     "name": "stdout",
     "output_type": "stream",
     "text": [
      "CPU times: user 34.9 s, sys: 17.1 ms, total: 34.9 s\n",
      "Wall time: 34.9 s\n"
     ]
    },
    {
     "data": {
      "text/plain": [
       "102334155"
      ]
     },
     "execution_count": 20,
     "metadata": {},
     "output_type": "execute_result"
    }
   ],
   "source": [
    "%%time\n",
    "fib(40)"
   ]
  },
  {
   "cell_type": "code",
   "execution_count": 41,
   "metadata": {},
   "outputs": [],
   "source": [
    "#memoization \n",
    "T = {}\n",
    "\n",
    "def fib_m(n):\n",
    "    if n not in T:\n",
    "        #print(\"Calculating fib({})\".format(n))\n",
    "        if n <= 1:\n",
    "            T[n] = n\n",
    "        else:\n",
    "            T[n] = fib_m(n - 1) + fib_m(n - 2)\n",
    "    return T[n]"
   ]
  },
  {
   "cell_type": "code",
   "execution_count": 84,
   "metadata": {},
   "outputs": [
    {
     "name": "stdout",
     "output_type": "stream",
     "text": [
      "CPU times: user 8 µs, sys: 1e+03 ns, total: 9 µs\n",
      "Wall time: 11.7 µs\n"
     ]
    },
    {
     "data": {
      "text/plain": [
       "354224848179261915075"
      ]
     },
     "execution_count": 84,
     "metadata": {},
     "output_type": "execute_result"
    }
   ],
   "source": [
    "%%time\n",
    "fib_m(100)"
   ]
  },
  {
   "cell_type": "code",
   "execution_count": 42,
   "metadata": {},
   "outputs": [],
   "source": [
    "#Iterative O(n) & O(1)\n",
    "def fib_i(n):\n",
    "    if n <= 1:\n",
    "        return 1\n",
    "    prev,curr = 0,1\n",
    "    for _ in range(n-1):\n",
    "        prev,curr = curr, prev+curr\n",
    "    return curr"
   ]
  },
  {
   "cell_type": "code",
   "execution_count": 83,
   "metadata": {},
   "outputs": [
    {
     "name": "stdout",
     "output_type": "stream",
     "text": [
      "CPU times: user 17 µs, sys: 1e+03 ns, total: 18 µs\n",
      "Wall time: 21.7 µs\n"
     ]
    },
    {
     "data": {
      "text/plain": [
       "354224848179261915075"
      ]
     },
     "execution_count": 83,
     "metadata": {},
     "output_type": "execute_result"
    }
   ],
   "source": [
    "%%time\n",
    "fib_i(100)"
   ]
  },
  {
   "cell_type": "markdown",
   "metadata": {},
   "source": [
    "# Longest Increasing SubSequence (LIS)\n",
    "\n",
    "list = [7,2,1,3,8,4,9,1,2,6,5,9,3,8,1]  \n",
    "LIS = [2,3,4,5,8]   \n",
    "LIS = [1,3,4,6,9]  "
   ]
  },
  {
   "cell_type": "code",
   "execution_count": 105,
   "metadata": {},
   "outputs": [],
   "source": [
    "T = {}\n",
    "\n",
    "def lis(A,i):\n",
    "    if i not in T:\n",
    "        T[i] = 1\n",
    "        \n",
    "        for j in range(i):\n",
    "            if A[j] < A[i]:\n",
    "                T[i] = max(T[i], lis(A, j)+1) #O(n^2)\n",
    "    return T[i]"
   ]
  },
  {
   "cell_type": "code",
   "execution_count": 106,
   "metadata": {},
   "outputs": [
    {
     "name": "stdout",
     "output_type": "stream",
     "text": [
      "5\n"
     ]
    }
   ],
   "source": [
    "A = [7,2,1,3,8,4,9,1,2,6,5,9,3,8,1]\n",
    "print(max(lis(A, i) for i in range(len(A))))  #O(n)"
   ]
  },
  {
   "cell_type": "code",
   "execution_count": 115,
   "metadata": {},
   "outputs": [],
   "source": [
    "def lis_i(A):\n",
    "    T = [None] * len(A)\n",
    "    prev = [None] * len(A)\n",
    "    for i in range(len(A)):\n",
    "        T[i] = 1\n",
    "        prev[i] = -1\n",
    "        for j in range(i):\n",
    "            if A[j] < A[i] and T[i] < T[j] + 1 :\n",
    "                T[i] = T[j] + 1\n",
    "                prev[i] = j\n",
    "    last = 0\n",
    "    for i in range(1,len(A)):\n",
    "        if T[i] > T[last]:\n",
    "            last = i\n",
    "    res = []\n",
    "    current = last\n",
    "    while current >= 0:\n",
    "        res.append(current)\n",
    "        current = prev[current]\n",
    "    res.reverse()\n",
    "    return [A[i] for i in res]"
   ]
  },
  {
   "cell_type": "code",
   "execution_count": 116,
   "metadata": {},
   "outputs": [
    {
     "data": {
      "text/plain": [
       "[2, 3, 4, 6, 9]"
      ]
     },
     "execution_count": 116,
     "metadata": {},
     "output_type": "execute_result"
    }
   ],
   "source": [
    "lis_i(A)"
   ]
  },
  {
   "cell_type": "code",
   "execution_count": 137,
   "metadata": {},
   "outputs": [],
   "source": [
    "def lis(A, last_index):\n",
    "    result = 0\n",
    "    \n",
    "    if last_index == -1:\n",
    "        last_element = float(\"-inf\")\n",
    "    else:\n",
    "        last_element = A[last_index]\n",
    "        \n",
    "    for i in range(last_index+1,len(A)):\n",
    "        if A[i] > last_element:\n",
    "            result = max(result, 1 + lis(A, i))\n",
    "            \n",
    "    return result"
   ]
  },
  {
   "cell_type": "code",
   "execution_count": 138,
   "metadata": {},
   "outputs": [
    {
     "data": {
      "text/plain": [
       "4"
      ]
     },
     "execution_count": 138,
     "metadata": {},
     "output_type": "execute_result"
    }
   ],
   "source": [
    "lis([7,2,1,3,8,4,9],-1)"
   ]
  },
  {
   "cell_type": "code",
   "execution_count": null,
   "metadata": {},
   "outputs": [],
   "source": []
  },
  {
   "cell_type": "markdown",
   "metadata": {},
   "source": [
    "# Primitive Calculator"
   ]
  },
  {
   "cell_type": "code",
   "execution_count": 119,
   "metadata": {},
   "outputs": [],
   "source": [
    "def primitive_calculator(n,i=1):\n",
    "    '''Calculate minimum number of operations needed to get n, by using primitive operations +1, *2, *3, return the operations'''\n",
    "    #99\n",
    "    print(n,i)\n",
    "    if n==1:\n",
    "        return i-1\n",
    "    one = two = three = float('inf')\n",
    "    if i == 1:\n",
    "        one = n\n",
    "    else:\n",
    "        one = primitive_calculator(n-1,i+1)\n",
    "    if n%2 == 0:\n",
    "        two = primitive_calculator(n//2,i+1)\n",
    "    if n%3 == 0:\n",
    "        three = primitive_calculator(n//3,i+1)\n",
    "    return min(one,two,three)"
   ]
  },
  {
   "cell_type": "code",
   "execution_count": 21,
   "metadata": {},
   "outputs": [],
   "source": [
    "def primitive_calculator(n):\n",
    "    \n",
    "    hop_count = [0] * (n + 1)\n",
    "    hop_count[1] = 1\n",
    "    for i in range(2,n+1):\n",
    "        indices = [i - 1]\n",
    "        if i%2==0:\n",
    "            indices.append(i//2)\n",
    "        if i%3==0:\n",
    "            indices.append(i//3)\n",
    "        \n",
    "        hop_count[i] = min(hop_count[x] for x in indices) + 1\n",
    "        \n",
    "    optimal_seq = [n]\n",
    "    \n",
    "    while n!=1:\n",
    "        cands = [n - 1]\n",
    "        if n%2==0:\n",
    "            cands.append(n//2)\n",
    "        if n%3==0:\n",
    "            cands.append(n//3)\n",
    "        n = min([(cand,hop_count[cand]) for cand in cands], key = lambda x:x[1])[0]\n",
    "        optimal_seq.append(n)\n",
    "    optimal_seq.reverse()\n",
    "    return optimal_seq\n",
    "    "
   ]
  },
  {
   "cell_type": "code",
   "execution_count": 26,
   "metadata": {},
   "outputs": [
    {
     "name": "stdout",
     "output_type": "stream",
     "text": [
      "[1, 3, 9, 18, 36, 72, 144, 145]\n"
     ]
    }
   ],
   "source": [
    "print(primitive_calculator(145))"
   ]
  },
  {
   "cell_type": "code",
   "execution_count": 37,
   "metadata": {},
   "outputs": [],
   "source": [
    "def knapsack(W,w,v):\n",
    "    T = [0] * (W+1)\n",
    "    \n",
    "    for u in range(1,W+1):\n",
    "        for i in range(len(w)):\n",
    "            if w[i] <= u:\n",
    "                T[u] = max(T[u],T[u-w[i]]+v[i])\n",
    "    return T[W]"
   ]
  },
  {
   "cell_type": "code",
   "execution_count": 38,
   "metadata": {},
   "outputs": [
    {
     "data": {
      "text/plain": [
       "48"
      ]
     },
     "execution_count": 38,
     "metadata": {},
     "output_type": "execute_result"
    }
   ],
   "source": [
    "knapsack(10,[6,3,4,2],[30,14,16,9])"
   ]
  },
  {
   "cell_type": "code",
   "execution_count": 42,
   "metadata": {},
   "outputs": [],
   "source": [
    "def money_change(money):\n",
    "    '''Given amount, return how minimum coins can be given as exchange'''\n",
    "    coinArray = [1,4,6,10]\n",
    "    if money==0:\n",
    "        return 0\n",
    "    best = -1\n",
    "    for coin in coinArray:\n",
    "        if coin<=money:\n",
    "            nextTry = money_change(money-coin)\n",
    "        if best<0 or best>nextTry+1:\n",
    "            best = nextTry+1\n",
    "    return best\n",
    "    "
   ]
  },
  {
   "cell_type": "code",
   "execution_count": 43,
   "metadata": {},
   "outputs": [
    {
     "data": {
      "text/plain": [
       "1"
      ]
     },
     "execution_count": 43,
     "metadata": {},
     "output_type": "execute_result"
    }
   ],
   "source": [
    "money_change(4)"
   ]
  },
  {
   "cell_type": "code",
   "execution_count": 33,
   "metadata": {},
   "outputs": [],
   "source": [
    "def edit_distance(first,second):\n",
    "    T = [[float(\"inf\")] * (len(second)+1) for _ in range(len(first)+1)]\n",
    "    for i in range(len(first) + 1):\n",
    "        T[i][0] = i\n",
    "    for j in range(len(second)+1):\n",
    "        T[0][j] = j\n",
    "    for i in range(1, len(first)+1):\n",
    "        for j in range(1,len(second)+1):\n",
    "            diff = 0 if first[i-1] == second[j-1] else 1\n",
    "            T[i][j] = min(T[i-1][j]+1, T[i][j-1]+1, T[i-1][j-1]+diff)\n",
    "    return T[len(first)][len(second)]"
   ]
  },
  {
   "cell_type": "code",
   "execution_count": 34,
   "metadata": {},
   "outputs": [
    {
     "data": {
      "text/plain": [
       "5"
      ]
     },
     "execution_count": 34,
     "metadata": {},
     "output_type": "execute_result"
    }
   ],
   "source": [
    "edit_distance(\"editing\",\"distance\")"
   ]
  },
  {
   "cell_type": "code",
   "execution_count": null,
   "metadata": {},
   "outputs": [],
   "source": [
    "def lis(first,second):\n",
    "    pass"
   ]
  },
  {
   "cell_type": "code",
   "execution_count": 47,
   "metadata": {},
   "outputs": [
    {
     "name": "stdout",
     "output_type": "stream",
     "text": [
      "Length of LCS is  2\n"
     ]
    }
   ],
   "source": [
    "# Dynamic Programming implementation of LCS problem\n",
    "def lcs(X, Y):\n",
    "    # find the length of the strings\n",
    "    m = len(X)\n",
    "    n = len(Y)\n",
    " \n",
    "    # declaring the array for storing the dp values\n",
    "    L = [[None]*(n + 1) for i in range(m + 1)]\n",
    " \n",
    "    \"\"\"Following steps build L[m + 1][n + 1] in bottom up fashion\n",
    "    Note: L[i][j] contains length of LCS of X[0..i-1]\n",
    "    and Y[0..j-1]\"\"\"\n",
    "    for i in range(m + 1):\n",
    "        for j in range(n + 1):\n",
    "            if i == 0 or j == 0 :\n",
    "                L[i][j] = 0\n",
    "            elif X[i-1] == Y[j-1]:\n",
    "                L[i][j] = L[i-1][j-1]+1\n",
    "            else:\n",
    "                L[i][j] = max(L[i-1][j], L[i][j-1])\n",
    " \n",
    "    # L[m][n] contains the length of LCS of X[0..n-1] & Y[0..m-1]\n",
    "    return L[m][n]\n",
    "\n",
    "X = [1,1,2]\n",
    "\n",
    "Y = [1,2]\n",
    "print(\"Length of LCS is \", lcs(X, Y))"
   ]
  },
  {
   "cell_type": "code",
   "execution_count": null,
   "metadata": {},
   "outputs": [],
   "source": [
    "lcs2([1,2,3],[3,2,1])"
   ]
  },
  {
   "cell_type": "code",
   "execution_count": null,
   "metadata": {},
   "outputs": [],
   "source": [
    "def lcs3(first,second,three):\n",
    "    small = min(first,second,three,key = lambda x:len(x))\n",
    "    count = 0\n",
    "    for i in range(len(small)):\n",
    "        count+=1 if first[i] == second[i] or second[i] == third[i] or first[i] == third[i]\n",
    "    return count"
   ]
  },
  {
   "cell_type": "code",
   "execution_count": 89,
   "metadata": {},
   "outputs": [],
   "source": [
    "def count_sets(arr,total):\n",
    "    return rec(arr,total,len(arr) - 1)\n",
    "T = {}\n",
    "def rec(arr,total,i):\n",
    "    key = str(total)+str(i)\n",
    "    #print(total,i)\n",
    "    if key in T:\n",
    "        return T[key]\n",
    "    if total == 0:\n",
    "        return 1\n",
    "    elif i < 0:\n",
    "        return 0\n",
    "    elif total < 0:\n",
    "        return 0\n",
    "    elif total < arr[i]:\n",
    "        T[key] = rec(arr,total,i-1)\n",
    "    else:\n",
    "        T[key] = rec(arr,total,i-1) + rec(arr,total - arr[i],i-1)\n",
    "    return T[key]\n",
    "    \n",
    "    "
   ]
  },
  {
   "cell_type": "code",
   "execution_count": 90,
   "metadata": {},
   "outputs": [
    {
     "data": {
      "text/plain": [
       "2"
      ]
     },
     "execution_count": 90,
     "metadata": {},
     "output_type": "execute_result"
    }
   ],
   "source": [
    "a = [2,4,6,10]\n",
    "tot = 6\n",
    "count_sets(a,tot) #3"
   ]
  },
  {
   "cell_type": "code",
   "execution_count": 37,
   "metadata": {},
   "outputs": [],
   "source": [
    "def evaluate(a, b, op):\n",
    "    if op == \"+\":\n",
    "        return a + b\n",
    "    elif op == \"-\":\n",
    "        return a - b\n",
    "    elif op == \"*\":\n",
    "        return a * b\n",
    "    else:\n",
    "        assert False\n",
    "        \n",
    "def maximum_value(dataset):\n",
    "    vals = []\n",
    "    ops = []\n",
    "    temp = \"\"\n",
    "    for i in dataset:\n",
    "        if i.isnumeric():\n",
    "            temp += i\n",
    "        else:\n",
    "            vals.append(int(temp))\n",
    "            ops.append(i)\n",
    "            temp = \"\"\n",
    "    vals.append(int(temp))\n",
    "    assert len(vals) == len(ops)+1\n",
    "    \n",
    "    n = len(vals)\n",
    "    \n",
    "    m = [[0] * n for i in range(n)]\n",
    "    M = [[0] * n for i in range(n)]\n",
    "    \n",
    "    for i in range(n):\n",
    "        M[i][i] = vals[i]\n",
    "        m[i][i] = vals[i]\n",
    "        \n",
    "    for s in range(1,n):\n",
    "        for i in range(n - s):\n",
    "            j = i + s\n",
    "            \n",
    "            temp = []\n",
    "            for k in range(i,j):\n",
    "                minsol = evaluate(m[i][k],m[k+1][j],ops[k])\n",
    "                maxsol = evaluate(M[i][k],M[k+1][j],ops[k])\n",
    "                temp.append(minsol)\n",
    "                temp.append(maxsol)\n",
    "                \n",
    "            m[i][j] = min(temp)\n",
    "            M[i][j] = max(temp)\n",
    "            \n",
    "    return M[0][n-1]\n",
    "            "
   ]
  },
  {
   "cell_type": "code",
   "execution_count": 38,
   "metadata": {},
   "outputs": [
    {
     "data": {
      "text/plain": [
       "6"
      ]
     },
     "execution_count": 38,
     "metadata": {},
     "output_type": "execute_result"
    }
   ],
   "source": [
    "dataset = \"1+2-3*4-5\"\n",
    "maximum_value(dataset)"
   ]
  },
  {
   "cell_type": "code",
   "execution_count": 53,
   "metadata": {},
   "outputs": [],
   "source": [
    "def maximum_gold(capacity, weights):\n",
    "    T = [[None] * (len(weights)+1) for _ in range(capacity+1)]\n",
    "    \n",
    "    for u in range(capacity+1):\n",
    "        T[u][0] = 0\n",
    "    \n",
    "    for i in range(1, len(weights) + 1):\n",
    "        for u in range(capacity+1):\n",
    "            T[u][i] = T[u][i-1]\n",
    "            \n",
    "            if u>=weights[i-1]:\n",
    "                T[u][i] = max(T[u][i], T[u - weights[i-1]][i-1]+weights[i-1])\n",
    "    return T[capacity][len(weights)]"
   ]
  },
  {
   "cell_type": "code",
   "execution_count": 63,
   "metadata": {},
   "outputs": [],
   "source": [
    "def partition3(values):\n",
    "    T = {}\n",
    "    for i in values:\n",
    "        if i in T:\n",
    "            T[i] += 1\n",
    "        else:\n",
    "            T[i] = 1\n",
    "    return max(T,key = lambda x:T[x])"
   ]
  }
 ],
 "metadata": {
  "kernelspec": {
   "display_name": "Python 3",
   "language": "python",
   "name": "python3"
  },
  "language_info": {
   "codemirror_mode": {
    "name": "ipython",
    "version": 3
   },
   "file_extension": ".py",
   "mimetype": "text/x-python",
   "name": "python",
   "nbconvert_exporter": "python",
   "pygments_lexer": "ipython3",
   "version": "3.8.10"
  }
 },
 "nbformat": 4,
 "nbformat_minor": 4
}
