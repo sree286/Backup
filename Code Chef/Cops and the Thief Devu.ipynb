{
 "cells": [
  {
   "cell_type": "markdown",
   "metadata": {},
   "source": [
    "## Cops and the Thief Devu\n",
    "\n",
    "There are 100 houses located on a straight line. The first house is numbered 1 and the last one is numbered 100. Some M houses out of these 100 are occupied by cops.\n",
    "\n",
    "Thief Devu has just stolen PeePee's bag and is looking for a house to hide in.\n",
    "\n",
    "PeePee uses fast 4G Internet and sends the message to all the cops that a thief named Devu has just stolen her bag and ran into some house.\n",
    "\n",
    "Devu knows that the cops run at a maximum speed of x houses per minute in a straight line and they will search for a maximum of y minutes. Devu wants to know how many houses are safe for him to escape from the cops. Help him in getting this information.\n",
    "\n",
    "### Input\n",
    "First line contains T, the number of test cases to follow.\n",
    "\n",
    "First line of each test case contains 3 space separated integers: M, x and y.\n",
    "\n",
    "For each test case, the second line contains M space separated integers which represent the house numbers where the cops are residing.\n",
    "\n",
    "### Output\n",
    "For each test case, output a single line containing the number of houses which are safe to hide from cops.\n",
    "\n",
    "### Constraints\n",
    "1 ≤ T ≤ 104\n",
    "1 ≤ x, y, M ≤ 10"
   ]
  },
  {
   "cell_type": "code",
   "execution_count": null,
   "metadata": {},
   "outputs": [],
   "source": [
    "for _ in range(int(input())):\n",
    "    \n",
    "    m,x,y = map(int,input().split())\n",
    "    houses = list(map(int,input().split()))\n",
    "    limit = x * y\n",
    "    tot = [0] * 100\n",
    "    for house in houses:\n",
    "        l = house-limit-1\n",
    "        if l<0:\n",
    "            l = 0\n",
    "        r = house+limit\n",
    "        if r>100:\n",
    "            r = 100\n",
    "            \n",
    "        tot[l:r] = [1] * (r-l)\n",
    "    \n",
    "    print(tot.count(0))"
   ]
  }
 ],
 "metadata": {
  "kernelspec": {
   "display_name": "Python 3",
   "language": "python",
   "name": "python3"
  },
  "language_info": {
   "codemirror_mode": {
    "name": "ipython",
    "version": 3
   },
   "file_extension": ".py",
   "mimetype": "text/x-python",
   "name": "python",
   "nbconvert_exporter": "python",
   "pygments_lexer": "ipython3",
   "version": "3.8.10"
  }
 },
 "nbformat": 4,
 "nbformat_minor": 4
}
