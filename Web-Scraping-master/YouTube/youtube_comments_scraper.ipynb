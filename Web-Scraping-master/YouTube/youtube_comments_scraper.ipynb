{
 "cells": [
  {
   "cell_type": "code",
   "execution_count": 1,
   "metadata": {},
   "outputs": [],
   "source": [
    "from selenium import webdriver \n",
    "import pandas as pd \n",
    "from selenium.webdriver.common.by import By \n",
    "from selenium.webdriver.support.ui import WebDriverWait \n",
    "from selenium.webdriver.support import expected_conditions as EC\n",
    "import time, re\n",
    "\n",
    "webdriverpath = \"/home/eesha/Softwares/chromedriver_linux64/chromedriver\"\n",
    "url = \"https://www.youtube.com/watch?v=6PHsLkdE--g\""
   ]
  },
  {
   "cell_type": "code",
   "execution_count": 2,
   "metadata": {},
   "outputs": [],
   "source": [
    "def save_comment(id_num, reply_to, title, channel, comment_text, comment_likes, comment_replies):\n",
    "    comment_data = {}\n",
    "    comment_data['id'] = id_num\n",
    "    comment_data['reply to'] = reply_to\n",
    "    comment_data['title'] = title\n",
    "    comment_data['channel'] = channel\n",
    "    comment_data['comment'] = comment_text\n",
    "    comment_data['number of likes'] = comment_likes\n",
    "    comment_data['number of replies'] = comment_replies\n",
    "    return comment_data"
   ]
  },
  {
   "cell_type": "code",
   "execution_count": 5,
   "metadata": {},
   "outputs": [],
   "source": [
    "def scraper(url):\n",
    "    driver = webdriver.Chrome(webdriverpath) \n",
    "    driver.get(url)\n",
    "    driver.execute_script(\"window.scrollTo(0,document.documentElement.scrollHeight);\")\n",
    "\n",
    "    title = driver.find_elements_by_xpath('//*[@id=\"container\"]/h1/yt-formatted-string')[0].text\n",
    "    channel = driver.find_element_by_xpath('//*[@id=\"text\"]/a').text\n",
    "    print(\"Video Title:\", title)\n",
    "    print(\"Channel:\", channel)\n",
    "\n",
    "    all_comments = []\n",
    "    SCROLL_PAUSE_TIME = 2\n",
    "    curr_num = 0\n",
    "\n",
    "    last_height = driver.execute_script(\"return document.documentElement.scrollHeight\")\n",
    "    while True:\n",
    "        driver.execute_script(\"window.scrollTo(0,document.documentElement.scrollHeight);\")\n",
    "        time.sleep(SCROLL_PAUSE_TIME)\n",
    "\n",
    "        comment = driver.find_elements_by_xpath('//*[@id=\"content-text\"]')\n",
    "        like_count = driver.find_elements_by_xpath('//*[@id=\"vote-count-middle\"]')\n",
    "        reply_count = driver.find_elements_by_xpath('//*[@id=\"replies\"]/ytd-comment-replies-renderer')\n",
    "\n",
    "        for c, lc, rc in zip(comment, like_count, reply_count):\n",
    "            comment_text = c.text.replace('\\n', ' ')\n",
    "            comment_likes = lc.text\n",
    "            comment_replies = rc.text.split(\" \")[1].split(\" \")[0]\n",
    "            if 'K' in comment_likes:\n",
    "                comment_likes = comment_likes.lower().split('k')[0]\n",
    "                comment_likes = comment_likes + '000'\n",
    "\n",
    "            if comment_replies.isnumeric() == False:\n",
    "                comment_replies = '0'\n",
    "                comment_data = save_comment(curr_num, 'None', title, channel, comment_text, comment_likes, comment_replies)\n",
    "                all_comments.append(comment_data)\n",
    "                curr_num += 1\n",
    "            else:\n",
    "                comment_data = save_comment(curr_num, 'None', title, channel, comment_text, comment_likes, comment_replies)\n",
    "                all_comments.append(comment_data)\n",
    "                parent_num = curr_num\n",
    "                curr_num += 1\n",
    "\n",
    "        new_height = driver.execute_script(\"return document.documentElement.scrollHeight\")\n",
    "        if new_height == last_height:\n",
    "           break\n",
    "        last_height = new_height\n",
    "\n",
    "    return all_comments"
   ]
  },
  {
   "cell_type": "code",
   "execution_count": 6,
   "metadata": {
    "scrolled": true
   },
   "outputs": [
    {
     "name": "stdout",
     "output_type": "stream",
     "text": [
      "Video Title: Amit Shah और Asaduddin Owaisi ने Lok Sabha में Citizenship Amendment Bill पर क्या कहा? (BBC Hindi)\n",
      "Channel: BBC News Hindi\n"
     ]
    },
    {
     "name": "stderr",
     "output_type": "stream",
     "text": [
      "IOPub data rate exceeded.\n",
      "The notebook server will temporarily stop sending output\n",
      "to the client in order to avoid crashing it.\n",
      "To change this limit, set the config variable\n",
      "`--NotebookApp.iopub_data_rate_limit`.\n",
      "\n",
      "Current values:\n",
      "NotebookApp.iopub_data_rate_limit=1000000.0 (bytes/sec)\n",
      "NotebookApp.rate_limit_window=3.0 (secs)\n",
      "\n"
     ]
    }
   ],
   "source": [
    "video_comments = scraper(url)\n",
    "print(video_comments)"
   ]
  },
  {
   "cell_type": "code",
   "execution_count": null,
   "metadata": {},
   "outputs": [],
   "source": []
  }
 ],
 "metadata": {
  "kernelspec": {
   "display_name": "Python 3",
   "language": "python",
   "name": "python3"
  },
  "language_info": {
   "codemirror_mode": {
    "name": "ipython",
    "version": 3
   },
   "file_extension": ".py",
   "mimetype": "text/x-python",
   "name": "python",
   "nbconvert_exporter": "python",
   "pygments_lexer": "ipython3",
   "version": "3.6.9"
  }
 },
 "nbformat": 4,
 "nbformat_minor": 2
}
