{
 "cells": [
  {
   "cell_type": "code",
   "execution_count": 7,
   "metadata": {},
   "outputs": [],
   "source": [
    "class LetterFilter:\n",
    "    def __init__(self,s):\n",
    "        self.s = s\n",
    "        self.vowels = [\"a\",\"e\",\"i\",\"o\",\"u\"]\n",
    "        \n",
    "    def filter_vowels(self):\n",
    "        res = [i for i in self.s if i not in self.vowels]\n",
    "        return \"\".join(res)\n",
    "    \n",
    "    def filter_constants(self):\n",
    "        res = [i for i in self.s if i in self.vowels]\n",
    "        return \"\".join(res)"
   ]
  }
 ],
 "metadata": {
  "kernelspec": {
   "display_name": "Python 3",
   "language": "python",
   "name": "python3"
  },
  "language_info": {
   "codemirror_mode": {
    "name": "ipython",
    "version": 3
   },
   "file_extension": ".py",
   "mimetype": "text/x-python",
   "name": "python",
   "nbconvert_exporter": "python",
   "pygments_lexer": "ipython3",
   "version": "3.8.10"
  }
 },
 "nbformat": 4,
 "nbformat_minor": 4
}
