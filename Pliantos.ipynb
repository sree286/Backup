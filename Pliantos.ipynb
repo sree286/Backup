{
 "cells": [
  {
   "cell_type": "markdown",
   "metadata": {},
   "source": [
    "Given noof office locations 'N', an array of electric bill collectors a[1....N]. Have bill amounts with size 'M', [1.....M]. distribute bill amounts approximately equal among the office locations 'N'. "
   ]
  },
  {
   "cell_type": "code",
   "execution_count": 70,
   "metadata": {},
   "outputs": [],
   "source": [
    "def merge_sort(array):\n",
    "    size = len(array)\n",
    "    if size==1:\n",
    "        return array\n",
    "    mid = len(array)//2\n",
    "    a1 = merge_sort(array[:mid])\n",
    "    a2 = merge_sort(array[mid:])\n",
    "    \n",
    "    res = []\n",
    "    i,j = 0,0\n",
    "    \n",
    "    while i<len(a1) and j<len(a2):\n",
    "        if a1[i] >= a2[j]:\n",
    "            res.append(a1[i])\n",
    "            i+=1\n",
    "        else:\n",
    "            res.append(a2[j])\n",
    "            j+=1\n",
    "            \n",
    "    while i < len(a1) or j<len(a2):\n",
    "        if i<len(a1):\n",
    "            res.append(a1[i])\n",
    "            i+=1\n",
    "        else:\n",
    "            res.append(a2[j])\n",
    "            j+=1\n",
    "    return res\n",
    "    "
   ]
  },
  {
   "cell_type": "code",
   "execution_count": 71,
   "metadata": {},
   "outputs": [],
   "source": [
    "def distribute(amounts,locations):\n",
    "    sorted_amounts = merge_sort(amounts)\n",
    "    collect = [[] for i in range(locations)]\n",
    "    total_amount = sum(amounts)\n",
    "    per_location = total_amount//locations\n",
    "    \n",
    "    def add_bill(location,bill):\n",
    "        collect[location].append(bill)\n",
    "\n",
    "    def get_location(location, bill, it = 0):\n",
    "        if it>=locations:\n",
    "            count = []\n",
    "            for j in collect:\n",
    "                count.append(sum(j))\n",
    "            ind = count.index(min(count))\n",
    "            return ind\n",
    "        if location >= locations:\n",
    "            location = 0\n",
    "        if sum(collect[location])+bill <= per_location:\n",
    "            return location\n",
    "        return get_location(location+1, bill, it+1)\n",
    "\n",
    "    location = 0\n",
    "    for bill in sorted_amounts:\n",
    "        location = get_location(location, bill)\n",
    "        collect[location].append(bill)\n",
    "\n",
    "        location+=1\n",
    "    return collect"
   ]
  },
  {
   "cell_type": "code",
   "execution_count": 87,
   "metadata": {},
   "outputs": [],
   "source": [
    "def level2(collectors,bills):\n",
    "    result = [[] for i in range(len(collectors))]\n",
    "    for i in range(len(collectors)):\n",
    "        result[i] = distribute(bills[i], collectors[i])\n",
    "    return result"
   ]
  },
  {
   "cell_type": "code",
   "execution_count": 72,
   "metadata": {},
   "outputs": [
    {
     "data": {
      "text/plain": [
       "[[15, 9], [12, 9, 5], [10, 8, 6]]"
      ]
     },
     "execution_count": 72,
     "metadata": {},
     "output_type": "execute_result"
    }
   ],
   "source": [
    "collect"
   ]
  },
  {
   "cell_type": "code",
   "execution_count": 95,
   "metadata": {},
   "outputs": [],
   "source": [
    "def main(locations, collectors,amounts):\n",
    "    result = distribute(amounts, locations)\n",
    "    print(f'Distributed amounts between locations: {result}')\n",
    "    count = []\n",
    "    print(\"Sum of amount at each location\")\n",
    "    for j in result:\n",
    "        count.append(sum(j))\n",
    "        print(sum(j))\n",
    "        \n",
    "    diff = 0\n",
    "    for j in range(len(count)-1):\n",
    "        diff = max(diff, abs(count[j+1]-count[j]))\n",
    "    print(f'Max Difference is : {diff}')\n",
    "    \n",
    "    res2 = level2(collectors, result)\n",
    "    print(f\"Distributed amount between each collectors: {res2}\")"
   ]
  },
  {
   "cell_type": "code",
   "execution_count": 97,
   "metadata": {},
   "outputs": [
    {
     "name": "stdout",
     "output_type": "stream",
     "text": [
      "Distributed amounts between locations: [[10, 3, 2], [9, 4, 1], [8, 5], [7, 6]]\n",
      "Sum of amount at each location\n",
      "15\n",
      "14\n",
      "13\n",
      "13\n",
      "Max Difference is : 1\n",
      "Distributed amount between each collectors: [[[10], [3, 2]], [[9, 4, 1]], [[8], [5]], [[7], [6], []]]\n"
     ]
    }
   ],
   "source": [
    "locations = 4\n",
    "collectors = [2,1,2,3]\n",
    "amounts = [1,2,3,4,5,6,7,8,9,10]\n",
    "\n",
    "main(locations, collectors, amounts)"
   ]
  },
  {
   "cell_type": "code",
   "execution_count": null,
   "metadata": {},
   "outputs": [],
   "source": []
  }
 ],
 "metadata": {
  "kernelspec": {
   "display_name": "Python 3",
   "language": "python",
   "name": "python3"
  },
  "language_info": {
   "codemirror_mode": {
    "name": "ipython",
    "version": 3
   },
   "file_extension": ".py",
   "mimetype": "text/x-python",
   "name": "python",
   "nbconvert_exporter": "python",
   "pygments_lexer": "ipython3",
   "version": "3.8.10"
  }
 },
 "nbformat": 4,
 "nbformat_minor": 4
}
